{
 "cells": [
  {
   "cell_type": "code",
   "execution_count": 1,
   "metadata": {},
   "outputs": [],
   "source": [
    "import numpy as np\n",
    "import pandas as pd\n",
    "import seaborn as sns\n",
    "\n",
    "from sklearn.model_selection import train_test_split, cross_val_score, KFold\n",
    "from sklearn.preprocessing import StandardScaler, MinMaxScaler \n",
    "from sklearn.metrics import accuracy_score, classification_report, confusion_matrix, ConfusionMatrixDisplay \n",
    "from sklearn.preprocessing import RobustScaler\n",
    "from sklearn.model_selection import cross_val_score\n",
    "\n",
    "import os\n",
    "import sys\n",
    "import random\n",
    "\n",
    "from matplotlib import pyplot as plt\n",
    "\n",
    "import tensorflow as tf\n",
    "from tensorflow import keras\n",
    "from tensorflow.keras.layers import Input, Dense, Dropout\n",
    "from tensorflow.keras import backend as K\n",
    "from tensorflow.keras.optimizers import SGD, Nadam, Adam\n",
    "from tensorflow.keras.utils import to_categorical\n",
    "from tensorflow.keras.callbacks import TensorBoard, EarlyStopping, ModelCheckpoint\n",
    "from tensorflow.keras.wrappers.scikit_learn import KerasRegressor\n",
    "from tensorflow.keras.models import Sequential, load_model\n",
    "\n",
    "from keras.models import Sequential\n",
    "from keras.layers import Dense, LSTM, Dropout, SimpleRNN, BatchNormalization, GRU\n",
    "from keras import optimizers\n",
    "from keras.regularizers import l2, l1\n",
    "from keras.callbacks import ReduceLROnPlateau, EarlyStopping\n",
    "\n",
    "import math\n",
    "import xgboost as xgb\n",
    "from xgboost import cv, XGBClassifier\n",
    "from sklearn.model_selection import cross_val_score, cross_validate"
   ]
  },
  {
   "cell_type": "code",
   "execution_count": 2,
   "metadata": {},
   "outputs": [],
   "source": [
    "# hyperparameters\n",
    "step = 60 \n",
    "batch_size = 16\n",
    "verbose = 1\n",
    "data_dir = \"C:/Users/086096/thesis_files\"\n",
    "segment_length = 960"
   ]
  },
  {
   "cell_type": "code",
   "execution_count": 3,
   "metadata": {},
   "outputs": [],
   "source": [
    "def segments_and_labels(dataset_dir, segment_length, step):\n",
    "    scores = pd.read_csv(os.path.join(dataset_dir, 'scores6.csv'))\n",
    "    scores['exp_or_cont'].fillna(0, inplace=True)\n",
    "\n",
    "    segments = []\n",
    "    labels = []\n",
    "\n",
    "    for person in scores['number']:\n",
    "        p = scores[scores['number'] == person]\n",
    "        filepath = os.path.join(dataset_dir, person.split('_')[0], f'{person}.csv')\n",
    "        df_activity = pd.read_csv(filepath)\n",
    "\n",
    "        for i in range(0, len(df_activity) - segment_length, step):\n",
    "            segment = df_activity['Magnitude.mean'].values[i : i + segment_length]\n",
    "            \n",
    "            segments.append([segment])\n",
    "            labels.append(p['exp_or_cont'].values[0])\n",
    "\n",
    "    segments = np.asarray(segments)\n",
    "    segments = segments.reshape(-1, segment_length, 1)\n",
    "\n",
    "    input_shape = segments.shape[1]\n",
    "    segments = segments.reshape(segments.shape[0], input_shape).astype('float32')\n",
    "    labels = np.asarray(labels).astype('float32')\n",
    "\n",
    "    return segments, labels, input_shape"
   ]
  },
  {
   "cell_type": "code",
   "execution_count": 4,
   "metadata": {},
   "outputs": [
    {
     "name": "stdout",
     "output_type": "stream",
     "text": [
      "(array([[0.073133, 0.021325, 0.029802, ..., 0.154651, 0.212445, 0.085252],\n",
      "       [0.030406, 0.049192, 0.054587, ..., 0.01228 , 0.010198, 0.008677],\n",
      "       [0.028689, 0.007497, 0.013025, ..., 0.027254, 0.014322, 0.018141],\n",
      "       ...,\n",
      "       [0.032726, 0.185987, 0.146053, ..., 0.032171, 0.032139, 0.032255],\n",
      "       [0.029076, 0.033472, 0.044819, ..., 0.035565, 0.036123, 0.036146],\n",
      "       [0.043793, 0.048195, 0.052622, ..., 0.033941, 0.031614, 0.035029]],\n",
      "      dtype=float32), array([1., 1., 1., ..., 0., 0., 0.], dtype=float32), 960)\n"
     ]
    }
   ],
   "source": [
    "print(segments_and_labels(data_dir,segment_length,step))"
   ]
  },
  {
   "cell_type": "code",
   "execution_count": 5,
   "metadata": {},
   "outputs": [],
   "source": [
    "segments, labels, input_shape = segments_and_labels(data_dir, segment_length, step)"
   ]
  },
  {
   "cell_type": "code",
   "execution_count": 6,
   "metadata": {},
   "outputs": [],
   "source": [
    "X_train, X_test, y_train, y_test = train_test_split(segments, labels, test_size = 0.2, random_state = 777)"
   ]
  },
  {
   "cell_type": "markdown",
   "metadata": {},
   "source": [
    "16hours - 960timesteps"
   ]
  },
  {
   "cell_type": "code",
   "execution_count": null,
   "metadata": {},
   "outputs": [],
   "source": [
    "XGBClassifier = XGBClassifier()"
   ]
  },
  {
   "cell_type": "code",
   "execution_count": 11,
   "metadata": {},
   "outputs": [
    {
     "name": "stdout",
     "output_type": "stream",
     "text": [
      "Accuracy:\n",
      "[0.56185156 0.55307263 0.54509178 0.54509178 0.54472843]\n",
      "Mean accuracy:\n",
      "0.5499672351850766\n",
      "\n",
      "Precision:\n",
      "[0.54226475 0.56910569 0.54438861 0.5497553  0.55901639]\n",
      "Mean precision:\n",
      "0.5529061497600598\n",
      "\n",
      "Recall:\n",
      "[0.56478405 0.54263566 0.52166934 0.5340729  0.53115265]\n",
      "Mean recall:\n",
      "0.5388629204196984\n",
      "\n",
      "f1:\n",
      "[0.55329536 0.55555556 0.53278689 0.54180064 0.54472843]\n",
      "Mean f1:\n",
      "0.5456333760952121\n",
      "\n"
     ]
    }
   ],
   "source": [
    "kf = KFold(n_splits = 5, shuffle = True, random_state = 777)\n",
    "\n",
    "scores_acc = cross_validate(XGBClassifier, segments, labels, scoring = ['accuracy','precision','recall','f1'], cv=kf)\n",
    "\n",
    "print(\"Accuracy:\")\n",
    "print(scores_acc['test_accuracy'])\n",
    "print(\"Mean accuracy:\")\n",
    "print(np.mean(scores_acc['test_accuracy']))\n",
    "print()\n",
    "\n",
    "print(\"Precision:\")\n",
    "print(scores_acc['test_precision'])\n",
    "print(\"Mean precision:\")\n",
    "print(np.mean(scores_acc['test_precision']))\n",
    "print()\n",
    "\n",
    "print(\"Recall:\")\n",
    "print(scores_acc['test_recall'])\n",
    "print(\"Mean recall:\")\n",
    "print(np.mean(scores_acc['test_recall']))\n",
    "print()\n",
    "\n",
    "print(\"f1:\")\n",
    "print(scores_acc['test_f1'])\n",
    "print(\"Mean f1:\")\n",
    "print(np.mean(scores_acc['test_f1']))\n",
    "print()"
   ]
  },
  {
   "cell_type": "markdown",
   "metadata": {},
   "source": [
    "24hours - 1440 timesteps"
   ]
  },
  {
   "cell_type": "code",
   "execution_count": 12,
   "metadata": {},
   "outputs": [
    {
     "name": "stdout",
     "output_type": "stream",
     "text": [
      "(5787,)\n",
      "(5787, 1440)\n"
     ]
    }
   ],
   "source": [
    "segment_length = 1440\n",
    "\n",
    "segments, labels, input_shape = segments_and_labels(data_dir, segment_length, step)\n",
    "\n",
    "y = labels\n",
    "X = segments\n",
    "print(y.shape)\n",
    "print(X.shape)"
   ]
  },
  {
   "cell_type": "code",
   "execution_count": 13,
   "metadata": {},
   "outputs": [
    {
     "name": "stdout",
     "output_type": "stream",
     "text": [
      "Accuracy:\n",
      "[0.53626943 0.53195164 0.55229041 0.56266206 0.55747623]\n",
      "Mean accuracy:\n",
      "0.5481299531424699\n",
      "\n",
      "Precision:\n",
      "[0.5539823  0.53001715 0.54770318 0.56238698 0.56338028]\n",
      "Mean precision:\n",
      "0.5514939791108544\n",
      "\n",
      "Recall:\n",
      "[0.52341137 0.5355286  0.54195804 0.54086957 0.54794521]\n",
      "Mean recall:\n",
      "0.5379425560159038\n",
      "\n",
      "f1:\n",
      "[0.53826311 0.53275862 0.54481547 0.55141844 0.55555556]\n",
      "Mean f1:\n",
      "0.5445622388661195\n",
      "\n"
     ]
    }
   ],
   "source": [
    "kf = KFold(n_splits = 5, shuffle = True, random_state = 777)\n",
    "\n",
    "scores_acc = cross_validate(XGBClassifier, segments, labels, scoring = ['accuracy','precision','recall','f1'], cv=kf)\n",
    "\n",
    "print(\"Accuracy:\")\n",
    "print(scores_acc['test_accuracy'])\n",
    "print(\"Mean accuracy:\")\n",
    "print(np.mean(scores_acc['test_accuracy']))\n",
    "print()\n",
    "\n",
    "print(\"Precision:\")\n",
    "print(scores_acc['test_precision'])\n",
    "print(\"Mean precision:\")\n",
    "print(np.mean(scores_acc['test_precision']))\n",
    "print()\n",
    "\n",
    "print(\"Recall:\")\n",
    "print(scores_acc['test_recall'])\n",
    "print(\"Mean recall:\")\n",
    "print(np.mean(scores_acc['test_recall']))\n",
    "print()\n",
    "\n",
    "print(\"f1:\")\n",
    "print(scores_acc['test_f1'])\n",
    "print(\"Mean f1:\")\n",
    "print(np.mean(scores_acc['test_f1']))\n",
    "print()"
   ]
  },
  {
   "cell_type": "markdown",
   "metadata": {},
   "source": [
    "48 hours - 2880 timesteps"
   ]
  },
  {
   "cell_type": "code",
   "execution_count": 14,
   "metadata": {},
   "outputs": [
    {
     "name": "stdout",
     "output_type": "stream",
     "text": [
      "(4376,)\n",
      "(4376, 2880)\n"
     ]
    }
   ],
   "source": [
    "segment_length = 2880\n",
    "\n",
    "segments, labels, input_shape = segments_and_labels(data_dir, segment_length, step)\n",
    "\n",
    "y = labels\n",
    "X = segments\n",
    "print(y.shape)\n",
    "print(X.shape)"
   ]
  },
  {
   "cell_type": "code",
   "execution_count": 15,
   "metadata": {},
   "outputs": [
    {
     "name": "stdout",
     "output_type": "stream",
     "text": [
      "Accuracy:\n",
      "[0.51369863 0.52914286 0.52457143 0.53257143 0.52228571]\n",
      "Mean accuracy:\n",
      "0.5244540117416829\n",
      "\n",
      "Precision:\n",
      "[0.53537736 0.54347826 0.50997783 0.5389755  0.52654867]\n",
      "Mean precision:\n",
      "0.5308715240182172\n",
      "\n",
      "Recall:\n",
      "[0.49780702 0.50223214 0.54117647 0.54504505 0.53846154]\n",
      "Mean recall:\n",
      "0.5249444428991643\n",
      "\n",
      "f1:\n",
      "[0.51590909 0.52204176 0.52511416 0.54199328 0.53243848]\n",
      "Mean f1:\n",
      "0.5274993538647063\n",
      "\n"
     ]
    }
   ],
   "source": [
    "kf = KFold(n_splits = 5, shuffle = True, random_state = 777)\n",
    "\n",
    "scores_acc = cross_validate(XGBClassifier, segments, labels, scoring = ['accuracy','precision','recall','f1'], cv=kf)\n",
    "\n",
    "print(\"Accuracy:\")\n",
    "print(scores_acc['test_accuracy'])\n",
    "print(\"Mean accuracy:\")\n",
    "print(np.mean(scores_acc['test_accuracy']))\n",
    "print()\n",
    "\n",
    "print(\"Precision:\")\n",
    "print(scores_acc['test_precision'])\n",
    "print(\"Mean precision:\")\n",
    "print(np.mean(scores_acc['test_precision']))\n",
    "print()\n",
    "\n",
    "print(\"Recall:\")\n",
    "print(scores_acc['test_recall'])\n",
    "print(\"Mean recall:\")\n",
    "print(np.mean(scores_acc['test_recall']))\n",
    "print()\n",
    "\n",
    "print(\"f1:\")\n",
    "print(scores_acc['test_f1'])\n",
    "print(\"Mean f1:\")\n",
    "print(np.mean(scores_acc['test_f1']))\n",
    "print()"
   ]
  },
  {
   "cell_type": "markdown",
   "metadata": {},
   "source": [
    "72hours - 4320timesteps"
   ]
  },
  {
   "cell_type": "code",
   "execution_count": 16,
   "metadata": {},
   "outputs": [
    {
     "name": "stdout",
     "output_type": "stream",
     "text": [
      "(2984,)\n",
      "(2984, 4320)\n"
     ]
    }
   ],
   "source": [
    "segment_length = 4320\n",
    "\n",
    "segments, labels, input_shape = segments_and_labels(data_dir, segment_length, step)\n",
    "\n",
    "y = labels\n",
    "X = segments\n",
    "print(y.shape)\n",
    "print(X.shape)"
   ]
  },
  {
   "cell_type": "code",
   "execution_count": 17,
   "metadata": {},
   "outputs": [
    {
     "name": "stdout",
     "output_type": "stream",
     "text": [
      "Accuracy:\n",
      "[0.52261307 0.49246231 0.50251256 0.52931323 0.53691275]\n",
      "Mean accuracy:\n",
      "0.5167627848414332\n",
      "\n",
      "Precision:\n",
      "[0.54320988 0.50598802 0.52866242 0.53225806 0.55016181]\n",
      "Mean precision:\n",
      "0.532056039538267\n",
      "\n",
      "Recall:\n",
      "[0.56230032 0.5504886  0.52698413 0.54817276 0.55374593]\n",
      "Mean recall:\n",
      "0.5483383463270648\n",
      "\n",
      "f1:\n",
      "[0.55259027 0.52730109 0.52782194 0.5400982  0.55194805]\n",
      "Mean f1:\n",
      "0.5399519100254057\n",
      "\n"
     ]
    }
   ],
   "source": [
    "kf = KFold(n_splits = 5, shuffle = True, random_state = 777)\n",
    "\n",
    "scores_acc = cross_validate(XGBClassifier, segments, labels, scoring = ['accuracy','precision','recall','f1'], cv=kf)\n",
    "\n",
    "print(\"Accuracy:\")\n",
    "print(scores_acc['test_accuracy'])\n",
    "print(\"Mean accuracy:\")\n",
    "print(np.mean(scores_acc['test_accuracy']))\n",
    "print()\n",
    "\n",
    "print(\"Precision:\")\n",
    "print(scores_acc['test_precision'])\n",
    "print(\"Mean precision:\")\n",
    "print(np.mean(scores_acc['test_precision']))\n",
    "print()\n",
    "\n",
    "print(\"Recall:\")\n",
    "print(scores_acc['test_recall'])\n",
    "print(\"Mean recall:\")\n",
    "print(np.mean(scores_acc['test_recall']))\n",
    "print()\n",
    "\n",
    "print(\"f1:\")\n",
    "print(scores_acc['test_f1'])\n",
    "print(\"Mean f1:\")\n",
    "print(np.mean(scores_acc['test_f1']))\n",
    "print()"
   ]
  },
  {
   "cell_type": "markdown",
   "metadata": {},
   "source": [
    "96hours - 5760timesteps"
   ]
  },
  {
   "cell_type": "code",
   "execution_count": 18,
   "metadata": {},
   "outputs": [
    {
     "name": "stdout",
     "output_type": "stream",
     "text": [
      "(1614,)\n",
      "(1614, 5760)\n"
     ]
    }
   ],
   "source": [
    "segment_length = 5760\n",
    "\n",
    "segments, labels, input_shape = segments_and_labels(data_dir, segment_length, step)\n",
    "\n",
    "y = labels\n",
    "X = segments\n",
    "print(y.shape)\n",
    "print(X.shape)"
   ]
  },
  {
   "cell_type": "code",
   "execution_count": 19,
   "metadata": {},
   "outputs": [
    {
     "name": "stdout",
     "output_type": "stream",
     "text": [
      "Accuracy:\n",
      "[0.44582043 0.45201238 0.43034056 0.44891641 0.54658385]\n",
      "Mean accuracy:\n",
      "0.46473472684268213\n",
      "\n",
      "Precision:\n",
      "[0.49246231 0.48780488 0.48677249 0.46938776 0.58695652]\n",
      "Mean precision:\n",
      "0.5046767906440455\n",
      "\n",
      "Recall:\n",
      "[0.55681818 0.58139535 0.51396648 0.55421687 0.60674157]\n",
      "Mean recall:\n",
      "0.5626276903211812\n",
      "\n",
      "f1:\n",
      "[0.52266667 0.53050398 0.5        0.50828729 0.59668508]\n",
      "Mean f1:\n",
      "0.531628604227423\n",
      "\n"
     ]
    }
   ],
   "source": [
    "kf = KFold(n_splits = 5, shuffle = True, random_state = 777)\n",
    "\n",
    "scores_acc = cross_validate(XGBClassifier, segments, labels, scoring = ['accuracy','precision','recall','f1'], cv=kf)\n",
    "\n",
    "print(\"Accuracy:\")\n",
    "print(scores_acc['test_accuracy'])\n",
    "print(\"Mean accuracy:\")\n",
    "print(np.mean(scores_acc['test_accuracy']))\n",
    "print()\n",
    "\n",
    "print(\"Precision:\")\n",
    "print(scores_acc['test_precision'])\n",
    "print(\"Mean precision:\")\n",
    "print(np.mean(scores_acc['test_precision']))\n",
    "print()\n",
    "\n",
    "print(\"Recall:\")\n",
    "print(scores_acc['test_recall'])\n",
    "print(\"Mean recall:\")\n",
    "print(np.mean(scores_acc['test_recall']))\n",
    "print()\n",
    "\n",
    "print(\"f1:\")\n",
    "print(scores_acc['test_f1'])\n",
    "print(\"Mean f1:\")\n",
    "print(np.mean(scores_acc['test_f1']))\n",
    "print()"
   ]
  }
 ],
 "metadata": {
  "kernelspec": {
   "display_name": "Python 3",
   "language": "python",
   "name": "python3"
  },
  "language_info": {
   "codemirror_mode": {
    "name": "ipython",
    "version": 3
   },
   "file_extension": ".py",
   "mimetype": "text/x-python",
   "name": "python",
   "nbconvert_exporter": "python",
   "pygments_lexer": "ipython3",
   "version": "3.8.3"
  }
 },
 "nbformat": 4,
 "nbformat_minor": 5
}
