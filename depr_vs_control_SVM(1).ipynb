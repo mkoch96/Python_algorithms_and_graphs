{
 "cells": [
  {
   "cell_type": "markdown",
   "metadata": {},
   "source": [
    "depression vs control - linear SVM"
   ]
  },
  {
   "cell_type": "code",
   "execution_count": 74,
   "metadata": {},
   "outputs": [],
   "source": [
    "import numpy as np\n",
    "import pandas as pd\n",
    "import seaborn as sns\n",
    "\n",
    "from sklearn.model_selection import train_test_split, cross_val_score, KFold\n",
    "from sklearn.preprocessing import StandardScaler, MinMaxScaler \n",
    "from sklearn.metrics import accuracy_score, classification_report, confusion_matrix, ConfusionMatrixDisplay \n",
    "from sklearn.preprocessing import RobustScaler\n",
    "from sklearn.model_selection import cross_val_score\n",
    "\n",
    "import os\n",
    "import sys\n",
    "import random\n",
    "\n",
    "from matplotlib import pyplot as plt\n",
    "\n",
    "import tensorflow as tf\n",
    "from tensorflow import keras\n",
    "from tensorflow.keras.layers import Input, Dense, Dropout\n",
    "from tensorflow.keras import backend as K\n",
    "from tensorflow.keras.optimizers import SGD, Nadam, Adam\n",
    "from tensorflow.keras.utils import to_categorical\n",
    "from tensorflow.keras.callbacks import TensorBoard, EarlyStopping, ModelCheckpoint\n",
    "from tensorflow.keras.wrappers.scikit_learn import KerasRegressor\n",
    "from tensorflow.keras.models import Sequential, load_model\n",
    "\n",
    "from keras.models import Sequential\n",
    "from keras.layers import Dense, LSTM, Dropout\n",
    "from keras import optimizers\n",
    "from sklearn.model_selection import cross_val_score, cross_validate\n",
    "from sklearn.svm import SVC"
   ]
  },
  {
   "cell_type": "code",
   "execution_count": 75,
   "metadata": {},
   "outputs": [],
   "source": [
    "# hyperparameters\n",
    "\n",
    "step = 60 \n",
    "batch_size = 16\n",
    "verbose = 1\n",
    "data_dir = \"C:/Users/086096/thesis_files/\"\n",
    "segment_length = 960"
   ]
  },
  {
   "cell_type": "code",
   "execution_count": 76,
   "metadata": {},
   "outputs": [],
   "source": [
    "def segments_and_labels(dataset_dir, segment_length, step):\n",
    "    scores = pd.read_csv(os.path.join(dataset_dir, 'scores7.csv'))\n",
    "    scores['exp_or_cont'].fillna(0, inplace=True)\n",
    "\n",
    "    segments = []\n",
    "    labels = []\n",
    "\n",
    "    for person in scores['number']:\n",
    "        p = scores[scores['number'] == person]\n",
    "        filepath = os.path.join(dataset_dir, person.split('_')[0], f'{person}.csv')\n",
    "        df_activity = pd.read_csv(filepath)\n",
    "\n",
    "        for i in range(0, len(df_activity) - segment_length, step):\n",
    "            segment = df_activity['Magnitude.mean'].values[i : i + segment_length]\n",
    "            \n",
    "            segments.append([segment])\n",
    "            labels.append(p['exp_or_cont'].values[0])\n",
    "\n",
    "    segments = np.asarray(segments)\n",
    "    segments = segments.reshape(-1, segment_length, 1)\n",
    "\n",
    "    input_shape = segments.shape[1]\n",
    "    segments = segments.reshape(segments.shape[0], input_shape).astype('float32')\n",
    "    labels = np.asarray(labels).astype('float32')\n",
    "\n",
    "    return segments, labels, input_shape"
   ]
  },
  {
   "cell_type": "code",
   "execution_count": 77,
   "metadata": {},
   "outputs": [
    {
     "name": "stdout",
     "output_type": "stream",
     "text": [
      "(array([[0.043232, 0.08168 , 0.01811 , ..., 0.062163, 0.011337, 0.010288],\n",
      "       [0.128714, 0.101046, 0.331317, ..., 0.055553, 0.031634, 0.05851 ],\n",
      "       [0.006379, 0.007886, 0.01208 , ..., 0.016275, 0.085776, 0.035873],\n",
      "       ...,\n",
      "       [0.028381, 0.112372, 0.047427, ..., 0.037865, 0.024527, 0.059238],\n",
      "       [0.073108, 0.043552, 0.070973, ..., 0.02016 , 0.026588, 0.008958],\n",
      "       [0.042946, 0.062584, 0.074234, ..., 0.006881, 0.008216, 0.00673 ]],\n",
      "      dtype=float32), array([1., 1., 1., ..., 0., 0., 0.], dtype=float32), 960)\n"
     ]
    }
   ],
   "source": [
    "print(segments_and_labels(data_dir,segment_length,step))"
   ]
  },
  {
   "cell_type": "code",
   "execution_count": 78,
   "metadata": {},
   "outputs": [],
   "source": [
    "segments, labels, input_shape = segments_and_labels(data_dir, segment_length, step)"
   ]
  },
  {
   "cell_type": "code",
   "execution_count": 79,
   "metadata": {},
   "outputs": [
    {
     "name": "stdout",
     "output_type": "stream",
     "text": [
      "(4368, 960)\n"
     ]
    }
   ],
   "source": [
    "print(segments.shape)"
   ]
  },
  {
   "cell_type": "code",
   "execution_count": 80,
   "metadata": {},
   "outputs": [
    {
     "name": "stdout",
     "output_type": "stream",
     "text": [
      "(4368,)\n",
      "(4368, 960)\n",
      "[1. 1. 1. ... 0. 0. 0.]\n",
      "[[0.043232 0.08168  0.01811  ... 0.062163 0.011337 0.010288]\n",
      " [0.128714 0.101046 0.331317 ... 0.055553 0.031634 0.05851 ]\n",
      " [0.006379 0.007886 0.01208  ... 0.016275 0.085776 0.035873]\n",
      " ...\n",
      " [0.028381 0.112372 0.047427 ... 0.037865 0.024527 0.059238]\n",
      " [0.073108 0.043552 0.070973 ... 0.02016  0.026588 0.008958]\n",
      " [0.042946 0.062584 0.074234 ... 0.006881 0.008216 0.00673 ]]\n",
      "False\n"
     ]
    }
   ],
   "source": [
    "y = labels\n",
    "X = segments\n",
    "#X = np.nan_to_num(segments,nan = 0.5)\n",
    "print(y.shape)\n",
    "print(X.shape)\n",
    "print(y)\n",
    "print(X)\n",
    "print(np.isnan(X).any())\n"
   ]
  },
  {
   "cell_type": "markdown",
   "metadata": {},
   "source": [
    "16hours - 960 timesteps"
   ]
  },
  {
   "cell_type": "code",
   "execution_count": 81,
   "metadata": {},
   "outputs": [
    {
     "name": "stdout",
     "output_type": "stream",
     "text": [
      "Accuracy:\n",
      "[0.61899314 0.60411899 0.62128146 0.61741123 0.62084765]\n",
      "Mean accuracy:\n",
      "0.6165304940222962\n",
      "\n",
      "Precision:\n",
      "[0.62135922 0.64016736 0.59217877 0.62809917 0.61623616]\n",
      "Mean precision:\n",
      "0.6196081388365541\n",
      "\n",
      "Recall:\n",
      "[0.69868996 0.6375     0.73953488 0.66375546 0.73085339]\n",
      "Mean recall:\n",
      "0.6940667380505986\n",
      "\n",
      "f1:\n",
      "[0.65775951 0.6388309  0.65770424 0.64543524 0.66866867]\n",
      "Mean f1:\n",
      "0.6536797114262434\n",
      "\n"
     ]
    }
   ],
   "source": [
    "svclassifier = SVC(kernel = \"rbf\", C=1.2, random_state=777)\n",
    "\n",
    "kf = KFold(n_splits = 5, shuffle = True, random_state = 777)\n",
    "\n",
    "scores_acc = cross_validate(svclassifier, X, y, scoring = ['accuracy','precision','recall','f1'], cv=kf)\n",
    "\n",
    "print(\"Accuracy:\")\n",
    "print(scores_acc['test_accuracy'])\n",
    "print(\"Mean accuracy:\")\n",
    "print(np.mean(scores_acc['test_accuracy']))\n",
    "print()\n",
    "\n",
    "print(\"Precision:\")\n",
    "print(scores_acc['test_precision'])\n",
    "print(\"Mean precision:\")\n",
    "print(np.mean(scores_acc['test_precision']))\n",
    "print()\n",
    "\n",
    "print(\"Recall:\")\n",
    "print(scores_acc['test_recall'])\n",
    "print(\"Mean recall:\")\n",
    "print(np.mean(scores_acc['test_recall']))\n",
    "print()\n",
    "\n",
    "print(\"f1:\")\n",
    "print(scores_acc['test_f1'])\n",
    "print(\"Mean f1:\")\n",
    "print(np.mean(scores_acc['test_f1']))\n",
    "print()"
   ]
  },
  {
   "cell_type": "markdown",
   "metadata": {},
   "source": [
    "24hours - 1440 timesteps"
   ]
  },
  {
   "cell_type": "code",
   "execution_count": 83,
   "metadata": {},
   "outputs": [
    {
     "name": "stdout",
     "output_type": "stream",
     "text": [
      "(4048,)\n",
      "(4048, 1440)\n"
     ]
    }
   ],
   "source": [
    "segment_length = 1440\n",
    "\n",
    "segments, labels, input_shape = segments_and_labels(data_dir, segment_length, step)\n",
    "\n",
    "y = labels\n",
    "X = segments\n",
    "print(y.shape)\n",
    "print(X.shape)"
   ]
  },
  {
   "cell_type": "code",
   "execution_count": 84,
   "metadata": {},
   "outputs": [
    {
     "name": "stdout",
     "output_type": "stream",
     "text": [
      "Accuracy:\n",
      "[0.64814815 0.66296296 0.65185185 0.61681088 0.631644  ]\n",
      "Mean accuracy:\n",
      "0.6422835691068076\n",
      "\n",
      "Precision:\n",
      "[0.66949153 0.66863905 0.62473795 0.60455487 0.62601626]\n",
      "Mean precision:\n",
      "0.6386879299515723\n",
      "\n",
      "Recall:\n",
      "[0.71011236 0.76351351 0.74314214 0.71046229 0.72985782]\n",
      "Mean recall:\n",
      "0.7314176249424632\n",
      "\n",
      "f1:\n",
      "[0.68920393 0.71293375 0.67881549 0.65324385 0.67396061]\n",
      "Mean f1:\n",
      "0.6816315260207964\n",
      "\n"
     ]
    }
   ],
   "source": [
    "svclassifier = SVC(kernel = \"rbf\", C=1.2, random_state=777)\n",
    "\n",
    "kf = KFold(n_splits = 5, shuffle = True, random_state = 777)\n",
    "\n",
    "scores_acc = cross_validate(svclassifier, X, y, scoring = ['accuracy','precision','recall','f1'], cv=kf)\n",
    "\n",
    "print(\"Accuracy:\")\n",
    "print(scores_acc['test_accuracy'])\n",
    "print(\"Mean accuracy:\")\n",
    "print(np.mean(scores_acc['test_accuracy']))\n",
    "print()\n",
    "\n",
    "print(\"Precision:\")\n",
    "print(scores_acc['test_precision'])\n",
    "print(\"Mean precision:\")\n",
    "print(np.mean(scores_acc['test_precision']))\n",
    "print()\n",
    "\n",
    "print(\"Recall:\")\n",
    "print(scores_acc['test_recall'])\n",
    "print(\"Mean recall:\")\n",
    "print(np.mean(scores_acc['test_recall']))\n",
    "print()\n",
    "\n",
    "print(\"f1:\")\n",
    "print(scores_acc['test_f1'])\n",
    "print(\"Mean f1:\")\n",
    "print(np.mean(scores_acc['test_f1']))\n",
    "print()"
   ]
  },
  {
   "cell_type": "markdown",
   "metadata": {},
   "source": [
    "48 hours - 2880 timesteps"
   ]
  },
  {
   "cell_type": "code",
   "execution_count": 85,
   "metadata": {},
   "outputs": [
    {
     "name": "stdout",
     "output_type": "stream",
     "text": [
      "(3088,)\n",
      "(3088, 2880)\n"
     ]
    }
   ],
   "source": [
    "segment_length = 2880\n",
    "\n",
    "segments, labels, input_shape = segments_and_labels(data_dir, segment_length, step)\n",
    "\n",
    "y = labels\n",
    "X = segments\n",
    "print(y.shape)\n",
    "print(X.shape)"
   ]
  },
  {
   "cell_type": "code",
   "execution_count": 87,
   "metadata": {},
   "outputs": [
    {
     "name": "stdout",
     "output_type": "stream",
     "text": [
      "Accuracy:\n",
      "[0.70550162 0.66343042 0.70226537 0.66774716 0.66450567]\n",
      "Mean accuracy:\n",
      "0.6806900494615873\n",
      "\n",
      "Precision:\n",
      "[0.71621622 0.65625    0.69109948 0.65289256 0.66129032]\n",
      "Mean precision:\n",
      "0.6755497154440245\n",
      "\n",
      "Recall:\n",
      "[0.7748538  0.76829268 0.8        0.75       0.75229358]\n",
      "Mean recall:\n",
      "0.7690880124156142\n",
      "\n",
      "f1:\n",
      "[0.74438202 0.70786517 0.74157303 0.69808542 0.70386266]\n",
      "Mean f1:\n",
      "0.7191536610796423\n",
      "\n"
     ]
    }
   ],
   "source": [
    "svclassifier = SVC(kernel = \"rbf\", C=1.2, random_state=777)\n",
    "\n",
    "kf = KFold(n_splits = 5, shuffle = True, random_state = 777)\n",
    "\n",
    "scores_acc = cross_validate(svclassifier, X, y, scoring = ['accuracy','precision','recall','f1'], cv=kf)\n",
    "\n",
    "print(\"Accuracy:\")\n",
    "print(scores_acc['test_accuracy'])\n",
    "print(\"Mean accuracy:\")\n",
    "print(np.mean(scores_acc['test_accuracy']))\n",
    "print()\n",
    "\n",
    "print(\"Precision:\")\n",
    "print(scores_acc['test_precision'])\n",
    "print(\"Mean precision:\")\n",
    "print(np.mean(scores_acc['test_precision']))\n",
    "print()\n",
    "\n",
    "print(\"Recall:\")\n",
    "print(scores_acc['test_recall'])\n",
    "print(\"Mean recall:\")\n",
    "print(np.mean(scores_acc['test_recall']))\n",
    "print()\n",
    "\n",
    "print(\"f1:\")\n",
    "print(scores_acc['test_f1'])\n",
    "print(\"Mean f1:\")\n",
    "print(np.mean(scores_acc['test_f1']))\n",
    "print()"
   ]
  },
  {
   "cell_type": "markdown",
   "metadata": {},
   "source": [
    "72 hours - 4320 timesteps"
   ]
  },
  {
   "cell_type": "code",
   "execution_count": 88,
   "metadata": {},
   "outputs": [
    {
     "name": "stdout",
     "output_type": "stream",
     "text": [
      "(2128,)\n",
      "(2128, 4320)\n"
     ]
    }
   ],
   "source": [
    "segment_length = 4320\n",
    "\n",
    "segments, labels, input_shape = segments_and_labels(data_dir, segment_length, step)\n",
    "\n",
    "y = labels\n",
    "X = segments\n",
    "print(y.shape)\n",
    "print(X.shape)"
   ]
  },
  {
   "cell_type": "code",
   "execution_count": 89,
   "metadata": {},
   "outputs": [
    {
     "name": "stdout",
     "output_type": "stream",
     "text": [
      "Accuracy:\n",
      "[0.68779343 0.74178404 0.70187793 0.67529412 0.67764706]\n",
      "Mean accuracy:\n",
      "0.6968793151063243\n",
      "\n",
      "Precision:\n",
      "[0.69348659 0.75510204 0.70075758 0.66666667 0.67132867]\n",
      "Mean precision:\n",
      "0.6974683089215108\n",
      "\n",
      "Recall:\n",
      "[0.77350427 0.78723404 0.79399142 0.77876106 0.81702128]\n",
      "Mean recall:\n",
      "0.790102414181825\n",
      "\n",
      "f1:\n",
      "[0.73131313 0.77083333 0.7444668  0.71836735 0.73704415]\n",
      "Mean f1:\n",
      "0.7404049516526781\n",
      "\n"
     ]
    }
   ],
   "source": [
    "svclassifier = SVC(kernel = \"rbf\", C=1.2, random_state=777)\n",
    "\n",
    "kf = KFold(n_splits = 5, shuffle = True, random_state = 777)\n",
    "\n",
    "scores_acc = cross_validate(svclassifier, X, y, scoring = ['accuracy','precision','recall','f1'], cv=kf)\n",
    "\n",
    "print(\"Accuracy:\")\n",
    "print(scores_acc['test_accuracy'])\n",
    "print(\"Mean accuracy:\")\n",
    "print(np.mean(scores_acc['test_accuracy']))\n",
    "print()\n",
    "\n",
    "print(\"Precision:\")\n",
    "print(scores_acc['test_precision'])\n",
    "print(\"Mean precision:\")\n",
    "print(np.mean(scores_acc['test_precision']))\n",
    "print()\n",
    "\n",
    "print(\"Recall:\")\n",
    "print(scores_acc['test_recall'])\n",
    "print(\"Mean recall:\")\n",
    "print(np.mean(scores_acc['test_recall']))\n",
    "print()\n",
    "\n",
    "print(\"f1:\")\n",
    "print(scores_acc['test_f1'])\n",
    "print(\"Mean f1:\")\n",
    "print(np.mean(scores_acc['test_f1']))\n",
    "print()"
   ]
  },
  {
   "cell_type": "markdown",
   "metadata": {},
   "source": [
    "96 hours - 5760 timesteps"
   ]
  },
  {
   "cell_type": "code",
   "execution_count": 90,
   "metadata": {},
   "outputs": [
    {
     "name": "stdout",
     "output_type": "stream",
     "text": [
      "(1217,)\n",
      "(1217, 5760)\n"
     ]
    }
   ],
   "source": [
    "segment_length = 5760\n",
    "\n",
    "segments, labels, input_shape = segments_and_labels(data_dir, segment_length, step)\n",
    "\n",
    "y = labels\n",
    "X = segments\n",
    "print(y.shape)\n",
    "print(X.shape)"
   ]
  },
  {
   "cell_type": "code",
   "execution_count": 91,
   "metadata": {},
   "outputs": [
    {
     "name": "stdout",
     "output_type": "stream",
     "text": [
      "Accuracy:\n",
      "[0.72540984 0.70491803 0.74485597 0.7037037  0.74897119]\n",
      "Mean accuracy:\n",
      "0.725571746609998\n",
      "\n",
      "Precision:\n",
      "[0.68306011 0.72189349 0.76506024 0.70481928 0.72413793]\n",
      "Mean precision:\n",
      "0.7197942099041299\n",
      "\n",
      "Recall:\n",
      "[0.93283582 0.82993197 0.84666667 0.83571429 0.90647482]\n",
      "Mean recall:\n",
      "0.8703247132418952\n",
      "\n",
      "f1:\n",
      "[0.78864353 0.7721519  0.80379747 0.76470588 0.80511182]\n",
      "Mean f1:\n",
      "0.7868821207301678\n",
      "\n"
     ]
    }
   ],
   "source": [
    "svclassifier = SVC(kernel = \"rbf\", C=1.2, random_state=777)\n",
    "\n",
    "kf = KFold(n_splits = 5, shuffle = True, random_state = 777)\n",
    "\n",
    "scores_acc = cross_validate(svclassifier, X, y, scoring = ['accuracy','precision','recall','f1'], cv=kf)\n",
    "\n",
    "print(\"Accuracy:\")\n",
    "print(scores_acc['test_accuracy'])\n",
    "print(\"Mean accuracy:\")\n",
    "print(np.mean(scores_acc['test_accuracy']))\n",
    "print()\n",
    "\n",
    "print(\"Precision:\")\n",
    "print(scores_acc['test_precision'])\n",
    "print(\"Mean precision:\")\n",
    "print(np.mean(scores_acc['test_precision']))\n",
    "print()\n",
    "\n",
    "print(\"Recall:\")\n",
    "print(scores_acc['test_recall'])\n",
    "print(\"Mean recall:\")\n",
    "print(np.mean(scores_acc['test_recall']))\n",
    "print()\n",
    "\n",
    "print(\"f1:\")\n",
    "print(scores_acc['test_f1'])\n",
    "print(\"Mean f1:\")\n",
    "print(np.mean(scores_acc['test_f1']))\n",
    "print()"
   ]
  }
 ],
 "metadata": {
  "kernelspec": {
   "display_name": "Python 3",
   "language": "python",
   "name": "python3"
  },
  "language_info": {
   "codemirror_mode": {
    "name": "ipython",
    "version": 3
   },
   "file_extension": ".py",
   "mimetype": "text/x-python",
   "name": "python",
   "nbconvert_exporter": "python",
   "pygments_lexer": "ipython3",
   "version": "3.8.3"
  }
 },
 "nbformat": 4,
 "nbformat_minor": 5
}
