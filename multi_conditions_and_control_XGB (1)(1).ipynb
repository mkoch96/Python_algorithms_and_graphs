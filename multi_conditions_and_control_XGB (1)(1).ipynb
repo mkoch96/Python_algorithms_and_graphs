{
 "cells": [
  {
   "cell_type": "code",
   "execution_count": 13,
   "metadata": {},
   "outputs": [
    {
     "ename": "ImportError",
     "evalue": "cannot import name 'builder_impl' from 'tensorflow.python.saved_model' (/Users/michielkoch/opt/anaconda3/lib/python3.8/site-packages/tensorflow/python/saved_model/__init__.py)",
     "output_type": "error",
     "traceback": [
      "\u001b[0;31m---------------------------------------------------------------------------\u001b[0m",
      "\u001b[0;31mImportError\u001b[0m                               Traceback (most recent call last)",
      "\u001b[0;32m<ipython-input-13-9b4b052e8c8d>\u001b[0m in \u001b[0;36m<module>\u001b[0;34m\u001b[0m\n\u001b[1;32m     15\u001b[0m \u001b[0;32mfrom\u001b[0m \u001b[0mmatplotlib\u001b[0m \u001b[0;32mimport\u001b[0m \u001b[0mpyplot\u001b[0m \u001b[0;32mas\u001b[0m \u001b[0mplt\u001b[0m\u001b[0;34m\u001b[0m\u001b[0;34m\u001b[0m\u001b[0m\n\u001b[1;32m     16\u001b[0m \u001b[0;34m\u001b[0m\u001b[0m\n\u001b[0;32m---> 17\u001b[0;31m \u001b[0;32mimport\u001b[0m \u001b[0mtensorflow\u001b[0m \u001b[0;32mas\u001b[0m \u001b[0mtf\u001b[0m\u001b[0;34m\u001b[0m\u001b[0;34m\u001b[0m\u001b[0m\n\u001b[0m\u001b[1;32m     18\u001b[0m \u001b[0;32mfrom\u001b[0m \u001b[0mtensorflow\u001b[0m \u001b[0;32mimport\u001b[0m \u001b[0mkeras\u001b[0m\u001b[0;34m\u001b[0m\u001b[0;34m\u001b[0m\u001b[0m\n\u001b[1;32m     19\u001b[0m \u001b[0;32mfrom\u001b[0m \u001b[0mtensorflow\u001b[0m\u001b[0;34m.\u001b[0m\u001b[0mkeras\u001b[0m\u001b[0;34m.\u001b[0m\u001b[0mlayers\u001b[0m \u001b[0;32mimport\u001b[0m \u001b[0mInput\u001b[0m\u001b[0;34m,\u001b[0m \u001b[0mDense\u001b[0m\u001b[0;34m,\u001b[0m \u001b[0mDropout\u001b[0m\u001b[0;34m\u001b[0m\u001b[0;34m\u001b[0m\u001b[0m\n",
      "\u001b[0;32m~/opt/anaconda3/lib/python3.8/site-packages/tensorflow/__init__.py\u001b[0m in \u001b[0;36m<module>\u001b[0;34m\u001b[0m\n\u001b[1;32m     39\u001b[0m \u001b[0;32mimport\u001b[0m \u001b[0msys\u001b[0m \u001b[0;32mas\u001b[0m \u001b[0m_sys\u001b[0m\u001b[0;34m\u001b[0m\u001b[0;34m\u001b[0m\u001b[0m\n\u001b[1;32m     40\u001b[0m \u001b[0;34m\u001b[0m\u001b[0m\n\u001b[0;32m---> 41\u001b[0;31m \u001b[0;32mfrom\u001b[0m \u001b[0mtensorflow\u001b[0m\u001b[0;34m.\u001b[0m\u001b[0mpython\u001b[0m\u001b[0;34m.\u001b[0m\u001b[0mtools\u001b[0m \u001b[0;32mimport\u001b[0m \u001b[0mmodule_util\u001b[0m \u001b[0;32mas\u001b[0m \u001b[0m_module_util\u001b[0m\u001b[0;34m\u001b[0m\u001b[0;34m\u001b[0m\u001b[0m\n\u001b[0m\u001b[1;32m     42\u001b[0m \u001b[0;32mfrom\u001b[0m \u001b[0mtensorflow\u001b[0m\u001b[0;34m.\u001b[0m\u001b[0mpython\u001b[0m\u001b[0;34m.\u001b[0m\u001b[0mutil\u001b[0m\u001b[0;34m.\u001b[0m\u001b[0mlazy_loader\u001b[0m \u001b[0;32mimport\u001b[0m \u001b[0mLazyLoader\u001b[0m \u001b[0;32mas\u001b[0m \u001b[0m_LazyLoader\u001b[0m\u001b[0;34m\u001b[0m\u001b[0;34m\u001b[0m\u001b[0m\n\u001b[1;32m     43\u001b[0m \u001b[0;34m\u001b[0m\u001b[0m\n",
      "\u001b[0;32m~/opt/anaconda3/lib/python3.8/site-packages/tensorflow/python/__init__.py\u001b[0m in \u001b[0;36m<module>\u001b[0;34m\u001b[0m\n\u001b[1;32m     46\u001b[0m \u001b[0;32mfrom\u001b[0m \u001b[0mtensorflow\u001b[0m\u001b[0;34m.\u001b[0m\u001b[0mpython\u001b[0m \u001b[0;32mimport\u001b[0m \u001b[0mdata\u001b[0m\u001b[0;34m\u001b[0m\u001b[0;34m\u001b[0m\u001b[0m\n\u001b[1;32m     47\u001b[0m \u001b[0;32mfrom\u001b[0m \u001b[0mtensorflow\u001b[0m\u001b[0;34m.\u001b[0m\u001b[0mpython\u001b[0m \u001b[0;32mimport\u001b[0m \u001b[0mdistribute\u001b[0m\u001b[0;34m\u001b[0m\u001b[0;34m\u001b[0m\u001b[0m\n\u001b[0;32m---> 48\u001b[0;31m \u001b[0;32mfrom\u001b[0m \u001b[0mtensorflow\u001b[0m\u001b[0;34m.\u001b[0m\u001b[0mpython\u001b[0m \u001b[0;32mimport\u001b[0m \u001b[0mkeras\u001b[0m\u001b[0;34m\u001b[0m\u001b[0;34m\u001b[0m\u001b[0m\n\u001b[0m\u001b[1;32m     49\u001b[0m \u001b[0;32mfrom\u001b[0m \u001b[0mtensorflow\u001b[0m\u001b[0;34m.\u001b[0m\u001b[0mpython\u001b[0m\u001b[0;34m.\u001b[0m\u001b[0mfeature_column\u001b[0m \u001b[0;32mimport\u001b[0m \u001b[0mfeature_column_lib\u001b[0m \u001b[0;32mas\u001b[0m \u001b[0mfeature_column\u001b[0m\u001b[0;34m\u001b[0m\u001b[0;34m\u001b[0m\u001b[0m\n\u001b[1;32m     50\u001b[0m \u001b[0;32mfrom\u001b[0m \u001b[0mtensorflow\u001b[0m\u001b[0;34m.\u001b[0m\u001b[0mpython\u001b[0m\u001b[0;34m.\u001b[0m\u001b[0mlayers\u001b[0m \u001b[0;32mimport\u001b[0m \u001b[0mlayers\u001b[0m\u001b[0;34m\u001b[0m\u001b[0;34m\u001b[0m\u001b[0m\n",
      "\u001b[0;32m~/opt/anaconda3/lib/python3.8/site-packages/tensorflow/python/keras/__init__.py\u001b[0m in \u001b[0;36m<module>\u001b[0;34m\u001b[0m\n\u001b[1;32m     25\u001b[0m \u001b[0;34m\u001b[0m\u001b[0m\n\u001b[1;32m     26\u001b[0m \u001b[0;31m# See b/110718070#comment18 for more details about this import.\u001b[0m\u001b[0;34m\u001b[0m\u001b[0;34m\u001b[0m\u001b[0;34m\u001b[0m\u001b[0m\n\u001b[0;32m---> 27\u001b[0;31m \u001b[0;32mfrom\u001b[0m \u001b[0mtensorflow\u001b[0m\u001b[0;34m.\u001b[0m\u001b[0mpython\u001b[0m\u001b[0;34m.\u001b[0m\u001b[0mkeras\u001b[0m \u001b[0;32mimport\u001b[0m \u001b[0mmodels\u001b[0m\u001b[0;34m\u001b[0m\u001b[0;34m\u001b[0m\u001b[0m\n\u001b[0m\u001b[1;32m     28\u001b[0m \u001b[0;34m\u001b[0m\u001b[0m\n\u001b[1;32m     29\u001b[0m \u001b[0;32mfrom\u001b[0m \u001b[0mtensorflow\u001b[0m\u001b[0;34m.\u001b[0m\u001b[0mpython\u001b[0m\u001b[0;34m.\u001b[0m\u001b[0mkeras\u001b[0m\u001b[0;34m.\u001b[0m\u001b[0mengine\u001b[0m\u001b[0;34m.\u001b[0m\u001b[0minput_layer\u001b[0m \u001b[0;32mimport\u001b[0m \u001b[0mInput\u001b[0m\u001b[0;34m\u001b[0m\u001b[0;34m\u001b[0m\u001b[0m\n",
      "\u001b[0;32m~/opt/anaconda3/lib/python3.8/site-packages/tensorflow/python/keras/models.py\u001b[0m in \u001b[0;36m<module>\u001b[0;34m\u001b[0m\n\u001b[1;32m     24\u001b[0m \u001b[0;32mfrom\u001b[0m \u001b[0mtensorflow\u001b[0m\u001b[0;34m.\u001b[0m\u001b[0mpython\u001b[0m\u001b[0;34m.\u001b[0m\u001b[0mkeras\u001b[0m \u001b[0;32mimport\u001b[0m \u001b[0mmetrics\u001b[0m \u001b[0;32mas\u001b[0m \u001b[0mmetrics_module\u001b[0m\u001b[0;34m\u001b[0m\u001b[0;34m\u001b[0m\u001b[0m\n\u001b[1;32m     25\u001b[0m \u001b[0;32mfrom\u001b[0m \u001b[0mtensorflow\u001b[0m\u001b[0;34m.\u001b[0m\u001b[0mpython\u001b[0m\u001b[0;34m.\u001b[0m\u001b[0mkeras\u001b[0m \u001b[0;32mimport\u001b[0m \u001b[0moptimizer_v1\u001b[0m\u001b[0;34m\u001b[0m\u001b[0;34m\u001b[0m\u001b[0m\n\u001b[0;32m---> 26\u001b[0;31m \u001b[0;32mfrom\u001b[0m \u001b[0mtensorflow\u001b[0m\u001b[0;34m.\u001b[0m\u001b[0mpython\u001b[0m\u001b[0;34m.\u001b[0m\u001b[0mkeras\u001b[0m\u001b[0;34m.\u001b[0m\u001b[0mengine\u001b[0m \u001b[0;32mimport\u001b[0m \u001b[0mfunctional\u001b[0m\u001b[0;34m\u001b[0m\u001b[0;34m\u001b[0m\u001b[0m\n\u001b[0m\u001b[1;32m     27\u001b[0m \u001b[0;32mfrom\u001b[0m \u001b[0mtensorflow\u001b[0m\u001b[0;34m.\u001b[0m\u001b[0mpython\u001b[0m\u001b[0;34m.\u001b[0m\u001b[0mkeras\u001b[0m\u001b[0;34m.\u001b[0m\u001b[0mengine\u001b[0m \u001b[0;32mimport\u001b[0m \u001b[0msequential\u001b[0m\u001b[0;34m\u001b[0m\u001b[0;34m\u001b[0m\u001b[0m\n\u001b[1;32m     28\u001b[0m \u001b[0;32mfrom\u001b[0m \u001b[0mtensorflow\u001b[0m\u001b[0;34m.\u001b[0m\u001b[0mpython\u001b[0m\u001b[0;34m.\u001b[0m\u001b[0mkeras\u001b[0m\u001b[0;34m.\u001b[0m\u001b[0mengine\u001b[0m \u001b[0;32mimport\u001b[0m \u001b[0mtraining\u001b[0m\u001b[0;34m\u001b[0m\u001b[0;34m\u001b[0m\u001b[0m\n",
      "\u001b[0;32m~/opt/anaconda3/lib/python3.8/site-packages/tensorflow/python/keras/engine/functional.py\u001b[0m in \u001b[0;36m<module>\u001b[0;34m\u001b[0m\n\u001b[1;32m     36\u001b[0m \u001b[0;32mfrom\u001b[0m \u001b[0mtensorflow\u001b[0m\u001b[0;34m.\u001b[0m\u001b[0mpython\u001b[0m\u001b[0;34m.\u001b[0m\u001b[0mkeras\u001b[0m\u001b[0;34m.\u001b[0m\u001b[0mengine\u001b[0m \u001b[0;32mimport\u001b[0m \u001b[0mkeras_tensor\u001b[0m\u001b[0;34m\u001b[0m\u001b[0;34m\u001b[0m\u001b[0m\n\u001b[1;32m     37\u001b[0m \u001b[0;32mfrom\u001b[0m \u001b[0mtensorflow\u001b[0m\u001b[0;34m.\u001b[0m\u001b[0mpython\u001b[0m\u001b[0;34m.\u001b[0m\u001b[0mkeras\u001b[0m\u001b[0;34m.\u001b[0m\u001b[0mengine\u001b[0m \u001b[0;32mimport\u001b[0m \u001b[0mnode\u001b[0m \u001b[0;32mas\u001b[0m \u001b[0mnode_module\u001b[0m\u001b[0;34m\u001b[0m\u001b[0;34m\u001b[0m\u001b[0m\n\u001b[0;32m---> 38\u001b[0;31m \u001b[0;32mfrom\u001b[0m \u001b[0mtensorflow\u001b[0m\u001b[0;34m.\u001b[0m\u001b[0mpython\u001b[0m\u001b[0;34m.\u001b[0m\u001b[0mkeras\u001b[0m\u001b[0;34m.\u001b[0m\u001b[0mengine\u001b[0m \u001b[0;32mimport\u001b[0m \u001b[0mtraining\u001b[0m \u001b[0;32mas\u001b[0m \u001b[0mtraining_lib\u001b[0m\u001b[0;34m\u001b[0m\u001b[0;34m\u001b[0m\u001b[0m\n\u001b[0m\u001b[1;32m     39\u001b[0m \u001b[0;32mfrom\u001b[0m \u001b[0mtensorflow\u001b[0m\u001b[0;34m.\u001b[0m\u001b[0mpython\u001b[0m\u001b[0;34m.\u001b[0m\u001b[0mkeras\u001b[0m\u001b[0;34m.\u001b[0m\u001b[0mengine\u001b[0m \u001b[0;32mimport\u001b[0m \u001b[0mtraining_utils\u001b[0m\u001b[0;34m\u001b[0m\u001b[0;34m\u001b[0m\u001b[0m\n\u001b[1;32m     40\u001b[0m \u001b[0;32mfrom\u001b[0m \u001b[0mtensorflow\u001b[0m\u001b[0;34m.\u001b[0m\u001b[0mpython\u001b[0m\u001b[0;34m.\u001b[0m\u001b[0mkeras\u001b[0m\u001b[0;34m.\u001b[0m\u001b[0msaving\u001b[0m\u001b[0;34m.\u001b[0m\u001b[0msaved_model\u001b[0m \u001b[0;32mimport\u001b[0m \u001b[0mnetwork_serialization\u001b[0m\u001b[0;34m\u001b[0m\u001b[0;34m\u001b[0m\u001b[0m\n",
      "\u001b[0;32m~/opt/anaconda3/lib/python3.8/site-packages/tensorflow/python/keras/engine/training.py\u001b[0m in \u001b[0;36m<module>\u001b[0;34m\u001b[0m\n\u001b[1;32m     55\u001b[0m \u001b[0;32mfrom\u001b[0m \u001b[0mtensorflow\u001b[0m\u001b[0;34m.\u001b[0m\u001b[0mpython\u001b[0m\u001b[0;34m.\u001b[0m\u001b[0mkeras\u001b[0m\u001b[0;34m.\u001b[0m\u001b[0mmixed_precision\u001b[0m \u001b[0;32mimport\u001b[0m \u001b[0mpolicy\u001b[0m\u001b[0;34m\u001b[0m\u001b[0;34m\u001b[0m\u001b[0m\n\u001b[1;32m     56\u001b[0m \u001b[0;32mfrom\u001b[0m \u001b[0mtensorflow\u001b[0m\u001b[0;34m.\u001b[0m\u001b[0mpython\u001b[0m\u001b[0;34m.\u001b[0m\u001b[0mkeras\u001b[0m\u001b[0;34m.\u001b[0m\u001b[0msaving\u001b[0m \u001b[0;32mimport\u001b[0m \u001b[0mhdf5_format\u001b[0m\u001b[0;34m\u001b[0m\u001b[0;34m\u001b[0m\u001b[0m\n\u001b[0;32m---> 57\u001b[0;31m \u001b[0;32mfrom\u001b[0m \u001b[0mtensorflow\u001b[0m\u001b[0;34m.\u001b[0m\u001b[0mpython\u001b[0m\u001b[0;34m.\u001b[0m\u001b[0mkeras\u001b[0m\u001b[0;34m.\u001b[0m\u001b[0msaving\u001b[0m \u001b[0;32mimport\u001b[0m \u001b[0msave\u001b[0m\u001b[0;34m\u001b[0m\u001b[0;34m\u001b[0m\u001b[0m\n\u001b[0m\u001b[1;32m     58\u001b[0m \u001b[0;32mfrom\u001b[0m \u001b[0mtensorflow\u001b[0m\u001b[0;34m.\u001b[0m\u001b[0mpython\u001b[0m\u001b[0;34m.\u001b[0m\u001b[0mkeras\u001b[0m\u001b[0;34m.\u001b[0m\u001b[0msaving\u001b[0m\u001b[0;34m.\u001b[0m\u001b[0msaved_model\u001b[0m \u001b[0;32mimport\u001b[0m \u001b[0mjson_utils\u001b[0m\u001b[0;34m\u001b[0m\u001b[0;34m\u001b[0m\u001b[0m\n\u001b[1;32m     59\u001b[0m \u001b[0;32mfrom\u001b[0m \u001b[0mtensorflow\u001b[0m\u001b[0;34m.\u001b[0m\u001b[0mpython\u001b[0m\u001b[0;34m.\u001b[0m\u001b[0mkeras\u001b[0m\u001b[0;34m.\u001b[0m\u001b[0msaving\u001b[0m\u001b[0;34m.\u001b[0m\u001b[0msaved_model\u001b[0m \u001b[0;32mimport\u001b[0m \u001b[0mmodel_serialization\u001b[0m\u001b[0;34m\u001b[0m\u001b[0;34m\u001b[0m\u001b[0m\n",
      "\u001b[0;32m~/opt/anaconda3/lib/python3.8/site-packages/tensorflow/python/keras/saving/save.py\u001b[0m in \u001b[0;36m<module>\u001b[0;34m\u001b[0m\n\u001b[1;32m     25\u001b[0m \u001b[0;32mfrom\u001b[0m \u001b[0mtensorflow\u001b[0m\u001b[0;34m.\u001b[0m\u001b[0mpython\u001b[0m\u001b[0;34m.\u001b[0m\u001b[0mkeras\u001b[0m\u001b[0;34m.\u001b[0m\u001b[0msaving\u001b[0m \u001b[0;32mimport\u001b[0m \u001b[0mhdf5_format\u001b[0m\u001b[0;34m\u001b[0m\u001b[0;34m\u001b[0m\u001b[0m\n\u001b[1;32m     26\u001b[0m \u001b[0;32mfrom\u001b[0m \u001b[0mtensorflow\u001b[0m\u001b[0;34m.\u001b[0m\u001b[0mpython\u001b[0m\u001b[0;34m.\u001b[0m\u001b[0mkeras\u001b[0m\u001b[0;34m.\u001b[0m\u001b[0msaving\u001b[0m\u001b[0;34m.\u001b[0m\u001b[0msaved_model\u001b[0m \u001b[0;32mimport\u001b[0m \u001b[0mload\u001b[0m \u001b[0;32mas\u001b[0m \u001b[0msaved_model_load\u001b[0m\u001b[0;34m\u001b[0m\u001b[0;34m\u001b[0m\u001b[0m\n\u001b[0;32m---> 27\u001b[0;31m \u001b[0;32mfrom\u001b[0m \u001b[0mtensorflow\u001b[0m\u001b[0;34m.\u001b[0m\u001b[0mpython\u001b[0m\u001b[0;34m.\u001b[0m\u001b[0mkeras\u001b[0m\u001b[0;34m.\u001b[0m\u001b[0msaving\u001b[0m\u001b[0;34m.\u001b[0m\u001b[0msaved_model\u001b[0m \u001b[0;32mimport\u001b[0m \u001b[0msave\u001b[0m \u001b[0;32mas\u001b[0m \u001b[0msaved_model_save\u001b[0m\u001b[0;34m\u001b[0m\u001b[0;34m\u001b[0m\u001b[0m\n\u001b[0m\u001b[1;32m     28\u001b[0m \u001b[0;32mfrom\u001b[0m \u001b[0mtensorflow\u001b[0m\u001b[0;34m.\u001b[0m\u001b[0mpython\u001b[0m\u001b[0;34m.\u001b[0m\u001b[0mkeras\u001b[0m\u001b[0;34m.\u001b[0m\u001b[0mutils\u001b[0m \u001b[0;32mimport\u001b[0m \u001b[0mgeneric_utils\u001b[0m\u001b[0;34m\u001b[0m\u001b[0;34m\u001b[0m\u001b[0m\n\u001b[1;32m     29\u001b[0m \u001b[0;32mfrom\u001b[0m \u001b[0mtensorflow\u001b[0m\u001b[0;34m.\u001b[0m\u001b[0mpython\u001b[0m\u001b[0;34m.\u001b[0m\u001b[0mkeras\u001b[0m\u001b[0;34m.\u001b[0m\u001b[0mutils\u001b[0m\u001b[0;34m.\u001b[0m\u001b[0mio_utils\u001b[0m \u001b[0;32mimport\u001b[0m \u001b[0mpath_to_string\u001b[0m\u001b[0;34m\u001b[0m\u001b[0;34m\u001b[0m\u001b[0m\n",
      "\u001b[0;32m~/opt/anaconda3/lib/python3.8/site-packages/tensorflow/python/keras/saving/saved_model/save.py\u001b[0m in \u001b[0;36m<module>\u001b[0;34m\u001b[0m\n\u001b[1;32m     26\u001b[0m \u001b[0;32mfrom\u001b[0m \u001b[0mtensorflow\u001b[0m\u001b[0;34m.\u001b[0m\u001b[0mpython\u001b[0m\u001b[0;34m.\u001b[0m\u001b[0mkeras\u001b[0m\u001b[0;34m.\u001b[0m\u001b[0mutils\u001b[0m\u001b[0;34m.\u001b[0m\u001b[0mgeneric_utils\u001b[0m \u001b[0;32mimport\u001b[0m \u001b[0mLazyLoader\u001b[0m\u001b[0;34m\u001b[0m\u001b[0;34m\u001b[0m\u001b[0m\n\u001b[1;32m     27\u001b[0m \u001b[0;32mfrom\u001b[0m \u001b[0mtensorflow\u001b[0m\u001b[0;34m.\u001b[0m\u001b[0mpython\u001b[0m\u001b[0;34m.\u001b[0m\u001b[0mkeras\u001b[0m\u001b[0;34m.\u001b[0m\u001b[0mutils\u001b[0m\u001b[0;34m.\u001b[0m\u001b[0mio_utils\u001b[0m \u001b[0;32mimport\u001b[0m \u001b[0mask_to_proceed_with_overwrite\u001b[0m\u001b[0;34m\u001b[0m\u001b[0;34m\u001b[0m\u001b[0m\n\u001b[0;32m---> 28\u001b[0;31m \u001b[0;32mfrom\u001b[0m \u001b[0mtensorflow\u001b[0m\u001b[0;34m.\u001b[0m\u001b[0mpython\u001b[0m\u001b[0;34m.\u001b[0m\u001b[0msaved_model\u001b[0m \u001b[0;32mimport\u001b[0m \u001b[0msave\u001b[0m \u001b[0;32mas\u001b[0m \u001b[0msave_lib\u001b[0m\u001b[0;34m\u001b[0m\u001b[0;34m\u001b[0m\u001b[0m\n\u001b[0m\u001b[1;32m     29\u001b[0m \u001b[0;34m\u001b[0m\u001b[0m\n\u001b[1;32m     30\u001b[0m \u001b[0;31m# To avoid circular dependencies between keras/engine and keras/saving,\u001b[0m\u001b[0;34m\u001b[0m\u001b[0;34m\u001b[0m\u001b[0;34m\u001b[0m\u001b[0m\n",
      "\u001b[0;32m~/opt/anaconda3/lib/python3.8/site-packages/tensorflow/python/saved_model/save.py\u001b[0m in \u001b[0;36m<module>\u001b[0;34m\u001b[0m\n\u001b[1;32m     44\u001b[0m \u001b[0;32mfrom\u001b[0m \u001b[0mtensorflow\u001b[0m\u001b[0;34m.\u001b[0m\u001b[0mpython\u001b[0m\u001b[0;34m.\u001b[0m\u001b[0mops\u001b[0m \u001b[0;32mimport\u001b[0m \u001b[0mcontrol_flow_ops\u001b[0m\u001b[0;34m\u001b[0m\u001b[0;34m\u001b[0m\u001b[0m\n\u001b[1;32m     45\u001b[0m \u001b[0;32mfrom\u001b[0m \u001b[0mtensorflow\u001b[0m\u001b[0;34m.\u001b[0m\u001b[0mpython\u001b[0m\u001b[0;34m.\u001b[0m\u001b[0mops\u001b[0m \u001b[0;32mimport\u001b[0m \u001b[0mresource_variable_ops\u001b[0m\u001b[0;34m\u001b[0m\u001b[0;34m\u001b[0m\u001b[0m\n\u001b[0;32m---> 46\u001b[0;31m \u001b[0;32mfrom\u001b[0m \u001b[0mtensorflow\u001b[0m\u001b[0;34m.\u001b[0m\u001b[0mpython\u001b[0m\u001b[0;34m.\u001b[0m\u001b[0msaved_model\u001b[0m \u001b[0;32mimport\u001b[0m \u001b[0mbuilder_impl\u001b[0m\u001b[0;34m\u001b[0m\u001b[0;34m\u001b[0m\u001b[0m\n\u001b[0m\u001b[1;32m     47\u001b[0m \u001b[0;32mfrom\u001b[0m \u001b[0mtensorflow\u001b[0m\u001b[0;34m.\u001b[0m\u001b[0mpython\u001b[0m\u001b[0;34m.\u001b[0m\u001b[0msaved_model\u001b[0m \u001b[0;32mimport\u001b[0m \u001b[0mconstants\u001b[0m\u001b[0;34m\u001b[0m\u001b[0;34m\u001b[0m\u001b[0m\n\u001b[1;32m     48\u001b[0m \u001b[0;32mfrom\u001b[0m \u001b[0mtensorflow\u001b[0m\u001b[0;34m.\u001b[0m\u001b[0mpython\u001b[0m\u001b[0;34m.\u001b[0m\u001b[0msaved_model\u001b[0m \u001b[0;32mimport\u001b[0m \u001b[0mfunction_serialization\u001b[0m\u001b[0;34m\u001b[0m\u001b[0;34m\u001b[0m\u001b[0m\n",
      "\u001b[0;31mImportError\u001b[0m: cannot import name 'builder_impl' from 'tensorflow.python.saved_model' (/Users/michielkoch/opt/anaconda3/lib/python3.8/site-packages/tensorflow/python/saved_model/__init__.py)"
     ]
    }
   ],
   "source": [
    "import numpy as np\n",
    "import pandas as pd\n",
    "import seaborn as sns\n",
    "\n",
    "from sklearn.model_selection import train_test_split, cross_val_score, KFold\n",
    "from sklearn.preprocessing import StandardScaler, MinMaxScaler \n",
    "from sklearn.metrics import accuracy_score, classification_report, confusion_matrix, ConfusionMatrixDisplay \n",
    "from sklearn.preprocessing import RobustScaler\n",
    "from sklearn.model_selection import cross_val_score\n",
    "\n",
    "import os\n",
    "import sys\n",
    "import random\n",
    "\n",
    "from matplotlib import pyplot as plt\n",
    "\n",
    "import tensorflow as tf\n",
    "from tensorflow import keras\n",
    "from tensorflow.keras.layers import Input, Dense, Dropout\n",
    "from tensorflow.keras import backend as K\n",
    "from tensorflow.keras.optimizers import SGD, Nadam, Adam\n",
    "from tensorflow.keras.utils import to_categorical\n",
    "from tensorflow.keras.callbacks import TensorBoard, EarlyStopping, ModelCheckpoint\n",
    "from tensorflow.keras.wrappers.scikit_learn import KerasRegressor\n",
    "from tensorflow.keras.models import Sequential, load_model\n",
    "\n",
    "from keras.models import Sequential\n",
    "from keras.layers import Dense, LSTM, Dropout\n",
    "from keras import optimizers\n",
    "from sklearn.svm import SVC\n",
    "from sklearn.model_selection import cross_val_score, cross_validate\n",
    "from sklearn.metrics import classification_report, confusion_matrix\n",
    "\n",
    "import math\n",
    "import xgboost as xgb\n",
    "from xgboost import cv, XGBClassifier\n",
    "from sklearn.model_selection import cross_val_score, cross_validate"
   ]
  },
  {
   "cell_type": "code",
   "execution_count": 15,
   "metadata": {},
   "outputs": [],
   "source": [
    "# hyperparameters\n",
    "\n",
    "step = 60 \n",
    "batch_size = 16\n",
    "#optimizer = optimizers.Adam(lr = 0.001) # learning rate is very low, otherwise the gradients exploded\n",
    "verbose = 1\n",
    "data_dir = \"C:/Users/086096/thesis_files/\"\n",
    "segment_length = 960\n",
    "learning_rate = 0.0001\n",
    "\n",
    "MADRS_LABLES = ['control', 'depression', 'ADHD']\n",
    "MADRS_VALUES = [0, 7, 20]\n",
    "classes = len(MADRS_VALUES)"
   ]
  },
  {
   "cell_type": "code",
   "execution_count": 25,
   "metadata": {},
   "outputs": [],
   "source": [
    "def plot_confusion_matrix(cm,\n",
    "                          target_names,\n",
    "                          title='Confusion matrix',\n",
    "                          cmap=None,\n",
    "                          normalize=True):\n",
    "    \"\"\"\n",
    "    given a sklearn confusion matrix (cm), make a nice plot\n",
    "\n",
    "    Arguments\n",
    "    ---------\n",
    "    cm:           confusion matrix from sklearn.metrics.confusion_matrix\n",
    "\n",
    "    target_names: given classification classes such as [0, 1, 2]\n",
    "                  the class names, for example: ['high', 'medium', 'low']\n",
    "\n",
    "    title:        the text to display at the top of the matrix\n",
    "\n",
    "    cmap:         the gradient of the values displayed from matplotlib.pyplot.cm\n",
    "                  see http://matplotlib.org/examples/color/colormaps_reference.html\n",
    "                  plt.get_cmap('jet') or plt.cm.Blues\n",
    "\n",
    "    normalize:    If False, plot the raw numbers\n",
    "                  If True, plot the proportions\n",
    "\n",
    "    Usage\n",
    "    -----\n",
    "    plot_confusion_matrix(cm           = cm,                  # confusion matrix created by\n",
    "                                                              # sklearn.metrics.confusion_matrix\n",
    "                          normalize    = True,                # show proportions\n",
    "                          target_names = y_labels_vals,       # list of names of the classes\n",
    "                          title        = best_estimator_name) # title of graph\n",
    "\n",
    "    Citiation\n",
    "    ---------\n",
    "    http://scikit-learn.org/stable/auto_examples/model_selection/plot_confusion_matrix.html\n",
    "\n",
    "    \"\"\"\n",
    "    import matplotlib.pyplot as plt\n",
    "    import numpy as np\n",
    "    import itertools\n",
    "\n",
    "    accuracy = np.trace(cm) / float(np.sum(cm))\n",
    "    misclass = 1 - accuracy\n",
    "\n",
    "    if cmap is None:\n",
    "        cmap = plt.get_cmap('Blues')\n",
    "\n",
    "    plt.figure(figsize=(8, 6))\n",
    "    plt.imshow(cm, interpolation='nearest', cmap=cmap)\n",
    "    plt.title(title)\n",
    "    plt.colorbar()\n",
    "\n",
    "    if target_names is not None:\n",
    "        tick_marks = np.arange(len(target_names))\n",
    "        plt.xticks(tick_marks, target_names, rotation=45)\n",
    "        plt.yticks(tick_marks, target_names)\n",
    "\n",
    "    if normalize:\n",
    "        cm = cm.astype('float') / cm.sum(axis=1)[:, np.newaxis]\n",
    "\n",
    "\n",
    "    thresh = cm.max() / 1.5 if normalize else cm.max() / 2\n",
    "    for i, j in itertools.product(range(cm.shape[0]), range(cm.shape[1])):\n",
    "        if normalize:\n",
    "            plt.text(j, i, \"{:0.4f}\".format(cm[i, j]),\n",
    "                     horizontalalignment=\"center\",\n",
    "                     color=\"white\" if cm[i, j] > thresh else \"black\")\n",
    "        else:\n",
    "            plt.text(j, i, \"{:,}\".format(cm[i, j]),\n",
    "                     horizontalalignment=\"center\",\n",
    "                     color=\"white\" if cm[i, j] > thresh else \"black\")\n",
    "\n",
    "\n",
    "    plt.tight_layout()\n",
    "    plt.ylabel('True label')\n",
    "    plt.xlabel('Predicted label')\n",
    "    plt.show()"
   ]
  },
  {
   "cell_type": "code",
   "execution_count": 16,
   "metadata": {},
   "outputs": [],
   "source": [
    "def create_segments_and_labels_2(dataset_dir, segment_length, step, leave_out_id=None):\n",
    "    scores = pd.read_csv(os.path.join(dataset_dir, 'scores8.csv'))\n",
    "    scores['waarde'].fillna(0, inplace=True)\n",
    "    \n",
    "    segments = []\n",
    "    labels = []\n",
    "\n",
    "    left_out_segments = []\n",
    "    left_out_correct = None\n",
    "\n",
    "    if leave_out_id == None:\n",
    "        leave_out_id = random.randint(0, len(scores['number']))\n",
    "\n",
    "    for i, person in enumerate(scores['number']):\n",
    "        p = scores[scores['number'] == person]\n",
    "        filepath = os.path.join(dataset_dir, person.split('_')[0], f'{person}.csv')\n",
    "        df_activity = pd.read_csv(filepath)\n",
    "\n",
    "        p_label = None\n",
    "\n",
    "        for j in range(classes):\n",
    "            if p['waarde'].values[0] >= MADRS_VALUES[classes - j - 1]:\n",
    "                p_label = classes - j - 1\n",
    "                break\n",
    "\n",
    "        assert p_label != None, f'Could not get target label: {p}'\n",
    "\n",
    "        # For the participant that we are leaving out\n",
    "        if i == leave_out_id:\n",
    "            left_out_correct = p_label\n",
    "\n",
    "        for j in range(0, len(df_activity) - segment_length, step):\n",
    "            segment = df_activity['Magnitude.mean'].values[j : j + segment_length]\n",
    "            \n",
    "            #For the participant that we are leaving out\n",
    "            if i == leave_out_id:\n",
    "                left_out_segments.append([segment])\n",
    "            else:\n",
    "                segments.append([segment])\n",
    "                labels.append(p_label)\n",
    "\n",
    "    #assert left_out_correct != None and len(left_out_segments) > 0, f'Did not set data for left out participant {leave_out_id}'\n",
    "    \n",
    "    labels = np.asarray(labels).astype('float32')\n",
    "    labels = to_categorical(labels, 3)\n",
    "    \n",
    "    segments = np.asarray(segments).reshape(-1, segment_length, 1)\n",
    "    #left_out_segments = np.asarray(left_out_segments).reshape(-1, segment_length, 1)\n",
    "\n",
    "    num_time_periods, num_sensors = segments.shape[1], segments.shape[2]\n",
    "    input_shape = num_time_periods * num_sensors\n",
    "\n",
    "    segments = segments.reshape(segments.shape[0], input_shape).astype('float32')\n",
    "    #left_out_segments = left_out_segments.reshape(left_out_segments.shape[0], input_shape).astype('float32')\n",
    "    \n",
    "    return segments, labels, input_shape"
   ]
  },
  {
   "cell_type": "code",
   "execution_count": 18,
   "metadata": {},
   "outputs": [
    {
     "name": "stdout",
     "output_type": "stream",
     "text": [
      "(array([[0.043232, 0.08168 , 0.01811 , ..., 0.062163, 0.011337, 0.010288],\n",
      "       [0.128714, 0.101046, 0.331317, ..., 0.055553, 0.031634, 0.05851 ],\n",
      "       [0.006379, 0.007886, 0.01208 , ..., 0.016275, 0.085776, 0.035873],\n",
      "       ...,\n",
      "       [0.032906, 0.015272, 0.040999, ..., 0.033849, 0.032655, 0.033597],\n",
      "       [0.152917, 0.136762, 0.040138, ..., 0.032351, 0.032457, 0.035026],\n",
      "       [0.048456, 0.025114, 0.01568 , ..., 0.033075, 0.032111, 0.032617]],\n",
      "      dtype=float32), array([[0., 0., 1.],\n",
      "       [0., 0., 1.],\n",
      "       [0., 0., 1.],\n",
      "       ...,\n",
      "       [1., 0., 0.],\n",
      "       [1., 0., 0.],\n",
      "       [1., 0., 0.]], dtype=float32), 960)\n"
     ]
    }
   ],
   "source": [
    "print(create_segments_and_labels_2(data_dir,segment_length,step))"
   ]
  },
  {
   "cell_type": "code",
   "execution_count": 19,
   "metadata": {},
   "outputs": [
    {
     "name": "stdout",
     "output_type": "stream",
     "text": [
      "(6216, 960)\n",
      "(6216, 3)\n",
      "False\n",
      "False\n"
     ]
    }
   ],
   "source": [
    "segments, labels, input_shape = create_segments_and_labels_2(data_dir, segment_length, step)\n",
    "print(segments.shape)\n",
    "print(labels.shape)\n",
    "print(np.isnan(labels).any())\n",
    "print(np.isnan(segments).any())"
   ]
  },
  {
   "cell_type": "code",
   "execution_count": 20,
   "metadata": {},
   "outputs": [
    {
     "name": "stdout",
     "output_type": "stream",
     "text": [
      "[2 2 2 ... 0 0 0]\n",
      "[0 1 2]\n",
      "(6216,)\n"
     ]
    }
   ],
   "source": [
    "labels2 = np.argmax(labels,axis=1)\n",
    "print(labels2)\n",
    "print(np.unique(labels2))\n",
    "print(labels2.shape)"
   ]
  },
  {
   "cell_type": "code",
   "execution_count": 21,
   "metadata": {},
   "outputs": [
    {
     "name": "stdout",
     "output_type": "stream",
     "text": [
      "1981\n",
      "2056\n",
      "2179\n"
     ]
    }
   ],
   "source": [
    "print(np.count_nonzero(labels2==0))\n",
    "print(np.count_nonzero(labels2==1))\n",
    "print(np.count_nonzero(labels2==2))"
   ]
  },
  {
   "cell_type": "code",
   "execution_count": 22,
   "metadata": {},
   "outputs": [],
   "source": [
    "X_train, X_test, y_train, y_test = train_test_split(segments, labels2, test_size=0.2, random_state=17)"
   ]
  },
  {
   "cell_type": "code",
   "execution_count": 23,
   "metadata": {},
   "outputs": [
    {
     "name": "stdout",
     "output_type": "stream",
     "text": [
      "[[0.034941 0.076416 0.023302 ... 0.006473 0.009857 0.023   ]\n",
      " [0.112649 0.070876 0.075333 ... 0.014467 0.010019 0.019592]\n",
      " [0.091136 0.014045 0.028988 ... 0.057241 0.143825 0.04393 ]\n",
      " ...\n",
      " [0.029489 0.030202 0.107863 ... 0.021551 0.006685 0.008161]\n",
      " [0.021478 0.031228 0.030775 ... 0.216109 0.015876 0.067559]\n",
      " [0.063361 0.058081 0.02213  ... 0.027908 0.048525 0.024937]]\n",
      "(4972, 960)\n",
      "\n",
      "[[0.084742 0.064744 0.09162  ... 0.030405 0.0318   0.036425]\n",
      " [0.022447 0.012282 0.044191 ... 0.040516 0.038884 0.019479]\n",
      " [0.03455  0.051455 0.039786 ... 0.152746 0.099839 0.131407]\n",
      " ...\n",
      " [0.019016 0.007512 0.109692 ... 0.034116 0.048256 0.041808]\n",
      " [0.012553 0.028148 0.027466 ... 0.012295 0.010849 0.012807]\n",
      " [0.133549 0.047302 0.153681 ... 0.011749 0.010347 0.014274]]\n",
      "(1244, 960)\n",
      "\n",
      "[0 2 2 ... 0 1 1]\n",
      "(4972,)\n",
      "\n",
      "[1 1 2 ... 2 1 2]\n",
      "(1244,)\n"
     ]
    }
   ],
   "source": [
    "print(X_train)\n",
    "print(X_train.shape)\n",
    "print()\n",
    "print(X_test)\n",
    "print(X_test.shape)\n",
    "print()\n",
    "print(y_train)\n",
    "print(y_train.shape)\n",
    "print()\n",
    "print(y_test)\n",
    "print(y_test.shape)"
   ]
  },
  {
   "cell_type": "markdown",
   "metadata": {},
   "source": [
    "16hours - 960timesteps "
   ]
  },
  {
   "cell_type": "code",
   "execution_count": 24,
   "metadata": {},
   "outputs": [],
   "source": [
    "XGBClassifier = XGBClassifier()"
   ]
  },
  {
   "cell_type": "code",
   "execution_count": 25,
   "metadata": {},
   "outputs": [
    {
     "data": {
      "text/plain": [
       "XGBClassifier(base_score=0.5, booster='gbtree', callbacks=None,\n",
       "              colsample_bylevel=1, colsample_bynode=1, colsample_bytree=1,\n",
       "              early_stopping_rounds=None, enable_categorical=False,\n",
       "              eval_metric=None, gamma=0, gpu_id=-1, grow_policy='depthwise',\n",
       "              importance_type=None, interaction_constraints='',\n",
       "              learning_rate=0.300000012, max_bin=256, max_cat_to_onehot=4,\n",
       "              max_delta_step=0, max_depth=6, max_leaves=0, min_child_weight=1,\n",
       "              missing=nan, monotone_constraints='()', n_estimators=100,\n",
       "              n_jobs=0, num_parallel_tree=1, objective='multi:softprob',\n",
       "              predictor='auto', random_state=0, reg_alpha=0, ...)"
      ]
     },
     "execution_count": 25,
     "metadata": {},
     "output_type": "execute_result"
    }
   ],
   "source": [
    "XGBClassifier.fit(X_train,y_train)"
   ]
  },
  {
   "cell_type": "code",
   "execution_count": 26,
   "metadata": {},
   "outputs": [],
   "source": [
    "y_pred = XGBClassifier.predict(X_test)"
   ]
  },
  {
   "cell_type": "code",
   "execution_count": 27,
   "metadata": {},
   "outputs": [
    {
     "name": "stdout",
     "output_type": "stream",
     "text": [
      "[0 0 2 ... 2 1 1] [1 1 2 ... 2 1 2]\n"
     ]
    }
   ],
   "source": [
    "print(y_pred,y_test)"
   ]
  },
  {
   "cell_type": "code",
   "execution_count": 28,
   "metadata": {},
   "outputs": [
    {
     "name": "stdout",
     "output_type": "stream",
     "text": [
      "[[158 117 111]\n",
      " [121 173 128]\n",
      " [114  99 223]]\n",
      "              precision    recall  f1-score   support\n",
      "\n",
      "           0       0.40      0.41      0.41       386\n",
      "           1       0.44      0.41      0.43       422\n",
      "           2       0.48      0.51      0.50       436\n",
      "\n",
      "    accuracy                           0.45      1244\n",
      "   macro avg       0.44      0.44      0.44      1244\n",
      "weighted avg       0.44      0.45      0.44      1244\n",
      "\n"
     ]
    }
   ],
   "source": [
    "print(confusion_matrix(y_test,y_pred))\n",
    "print(classification_report(y_test,y_pred))"
   ]
  },
  {
   "cell_type": "code",
   "execution_count": 26,
   "metadata": {},
   "outputs": [
    {
     "data": {
      "image/png": "[encoded data removed]",
      "text/plain": [
       "<Figure size 576x432 with 2 Axes>"
      ]
     },
     "metadata": {
      "needs_background": "light"
     },
     "output_type": "display_data"
    }
   ],
   "source": [
    "plot_confusion_matrix(cm           = np.array([[ 158,  117,   111],\n",
    "                                              [  121,  173,  128],\n",
    "                                              [  114,  99, 223]]), \n",
    "                      normalize    = False,\n",
    "                      target_names = ['Control','ADHD', 'Depression'],\n",
    "                      title        = \"XGBoost Confusion Matrix (16h) - Control vs ADHD vs Depression\")"
   ]
  },
  {
   "cell_type": "markdown",
   "metadata": {},
   "source": [
    "24hours - 1440 timesteps"
   ]
  },
  {
   "cell_type": "code",
   "execution_count": 29,
   "metadata": {},
   "outputs": [
    {
     "name": "stdout",
     "output_type": "stream",
     "text": [
      "[[0.173884 0.204942 0.051892 ... 0.013566 0.011535 0.03579 ]\n",
      " [0.016478 0.020426 0.035099 ... 0.013003 0.016261 0.01763 ]\n",
      " [0.172222 0.120213 0.135648 ... 0.049098 0.068341 0.087943]\n",
      " ...\n",
      " [0.051    0.018722 0.015858 ... 0.011702 0.008278 0.005995]\n",
      " [0.055646 0.01654  0.008941 ... 0.010992 0.018272 0.040151]\n",
      " [0.038688 0.045118 0.039088 ... 0.029779 0.007656 0.038697]]\n",
      "(4602, 1440)\n",
      "\n",
      "[[0.012648 0.015872 0.013453 ... 0.01267  0.011037 0.049309]\n",
      " [0.08697  0.007495 0.038403 ... 0.015863 0.032058 0.0329  ]\n",
      " [0.017038 0.014585 0.048723 ... 0.021667 0.179393 0.066999]\n",
      " ...\n",
      " [0.027326 0.171702 0.020156 ... 0.0903   0.029543 0.052829]\n",
      " [0.152652 0.155548 0.033015 ... 0.050656 0.026162 0.031594]\n",
      " [0.128399 0.026878 0.02729  ... 0.117164 0.042977 0.172887]]\n",
      "(1151, 1440)\n",
      "\n",
      "[1 1 1 ... 0 1 1]\n",
      "(4602,)\n",
      "\n",
      "[1 0 2 ... 0 0 2]\n",
      "(1151,)\n"
     ]
    }
   ],
   "source": [
    "segment_length = 1440\n",
    "\n",
    "segments, labels, input_shape = create_segments_and_labels_2(data_dir, segment_length, step)\n",
    "\n",
    "labels2 = np.argmax(labels,axis=1)\n",
    "\n",
    "X_train, X_test, y_train, y_test = train_test_split(segments, labels2, test_size=0.2, random_state=17)\n",
    "\n",
    "print(X_train)\n",
    "print(X_train.shape)\n",
    "print()\n",
    "print(X_test)\n",
    "print(X_test.shape)\n",
    "print()\n",
    "print(y_train)\n",
    "print(y_train.shape)\n",
    "print()\n",
    "print(y_test)\n",
    "print(y_test.shape)"
   ]
  },
  {
   "cell_type": "code",
   "execution_count": 30,
   "metadata": {},
   "outputs": [
    {
     "name": "stdout",
     "output_type": "stream",
     "text": [
      "[[147  82 123]\n",
      " [127 125 121]\n",
      " [102  89 235]]\n",
      "              precision    recall  f1-score   support\n",
      "\n",
      "           0       0.39      0.42      0.40       352\n",
      "           1       0.42      0.34      0.37       373\n",
      "           2       0.49      0.55      0.52       426\n",
      "\n",
      "    accuracy                           0.44      1151\n",
      "   macro avg       0.43      0.43      0.43      1151\n",
      "weighted avg       0.44      0.44      0.44      1151\n",
      "\n"
     ]
    }
   ],
   "source": [
    "XGBClassifier.fit(X_train,y_train)\n",
    "y_pred = XGBClassifier.predict(X_test)\n",
    "print(confusion_matrix(y_test,y_pred))\n",
    "print(classification_report(y_test,y_pred))"
   ]
  },
  {
   "cell_type": "code",
   "execution_count": 27,
   "metadata": {},
   "outputs": [
    {
     "data": {
      "image/png": "[encoded data removed]",
      "text/plain": [
       "<Figure size 576x432 with 2 Axes>"
      ]
     },
     "metadata": {
      "needs_background": "light"
     },
     "output_type": "display_data"
    }
   ],
   "source": [
    "plot_confusion_matrix(cm           = np.array([[ 147,  82,   123],\n",
    "                                              [  127,  125,  121],\n",
    "                                              [  102,  89, 235]]), \n",
    "                      normalize    = False,\n",
    "                      target_names = ['Control','ADHD', 'Depression'],\n",
    "                      title        = \"XGBoost Confusion Matrix (24h) - Control vs ADHD vs Depression\")"
   ]
  },
  {
   "cell_type": "markdown",
   "metadata": {},
   "source": [
    "48hours -  2880timesteps"
   ]
  },
  {
   "cell_type": "code",
   "execution_count": 31,
   "metadata": {},
   "outputs": [
    {
     "name": "stdout",
     "output_type": "stream",
     "text": [
      "[[0.06143    0.031388   0.014706   ... 0.154954   0.046839   0.030025  ]\n",
      " [0.038211   0.029028   0.032203   ... 0.015283   0.042392   0.013764  ]\n",
      " [0.17796883 0.09056149 0.06379733 ... 0.03620068 0.01393686 0.03014644]\n",
      " ...\n",
      " [0.057095   0.038026   0.034732   ... 0.046872   0.076321   0.029698  ]\n",
      " [0.060705   0.01765    0.050383   ... 0.00494    0.005689   0.008226  ]\n",
      " [0.023784   0.011793   0.026762   ... 0.051317   0.016791   0.067018  ]]\n",
      "(3520, 2880)\n",
      "\n",
      "[[0.049624 0.030436 0.044499 ... 0.02599  0.026245 0.026822]\n",
      " [0.020455 0.016202 0.017073 ... 0.027419 0.131254 0.082509]\n",
      " [0.027378 0.02157  0.021785 ... 0.06897  0.081076 0.039525]\n",
      " ...\n",
      " [0.048505 0.012797 0.009288 ... 0.053329 0.099509 0.132421]\n",
      " [0.023667 0.036584 0.143321 ... 0.00508  0.017142 0.007923]\n",
      " [0.028913 0.017869 0.016097 ... 0.013394 0.215686 0.125688]]\n",
      "(880, 2880)\n",
      "\n",
      "[1 2 2 ... 2 1 1]\n",
      "(3520,)\n",
      "\n",
      "[2 0 1 0 0 2 0 0 1 0 1 2 0 0 0 0 1 0 1 2 1 1 1 1 0 2 0 0 1 1 1 0 2 0 0 1 1\n",
      " 0 1 1 2 1 0 0 1 1 2 2 2 0 1 2 0 1 0 1 2 2 1 2 0 1 2 2 0 2 1 2 1 0 1 2 2 0\n",
      " 2 2 0 2 2 1 0 1 0 0 1 2 0 2 0 0 0 1 0 1 0 1 2 2 2 1 1 0 2 2 2 1 1 2 2 2 2\n",
      " 1 2 2 1 1 2 1 1 0 0 2 2 0 1 0 1 1 1 2 1 2 2 1 0 2 2 0 0 2 0 0 2 2 0 0 2 1\n",
      " 2 0 1 2 2 1 0 0 0 2 0 1 0 0 0 0 2 0 1 2 2 2 1 2 1 2 2 0 1 1 0 2 2 1 1 2 0\n",
      " 2 0 0 2 2 0 1 2 0 1 2 2 1 1 0 1 0 0 2 0 2 0 0 2 1 0 1 0 2 1 1 2 1 0 2 0 0\n",
      " 0 1 0 2 1 1 0 0 2 1 0 0 2 1 1 2 2 0 2 1 1 1 2 2 1 2 2 1 2 1 1 1 0 0 0 2 0\n",
      " 2 0 0 2 1 2 1 2 0 2 2 1 1 1 1 1 1 0 1 1 1 1 2 0 2 2 2 2 0 2 2 2 2 0 2 0 1\n",
      " 1 1 2 2 1 0 1 1 0 0 1 2 2 2 0 0 2 1 1 2 1 0 2 2 0 2 1 2 0 1 1 0 0 1 1 2 2\n",
      " 0 2 1 1 2 2 0 1 2 2 0 1 2 2 0 2 1 2 2 2 1 1 1 1 2 0 1 2 0 2 1 2 2 0 1 2 1\n",
      " 0 0 0 0 2 0 1 0 2 0 1 1 1 0 0 0 0 0 0 1 1 0 2 1 0 1 0 0 1 0 0 2 0 0 0 1 2\n",
      " 0 2 0 2 2 2 0 1 2 0 2 2 1 2 2 1 0 2 2 2 1 1 0 0 2 1 2 1 2 2 0 0 0 0 1 2 2\n",
      " 0 1 2 2 2 0 2 1 2 2 1 0 2 2 2 2 2 0 0 1 2 0 2 1 1 0 2 1 1 2 2 0 1 2 0 0 1\n",
      " 1 2 1 1 0 2 1 1 1 0 2 1 1 2 2 2 2 2 0 2 2 0 2 1 0 1 1 2 1 2 2 2 2 0 0 2 1\n",
      " 1 2 2 0 1 2 0 2 2 2 1 1 2 1 1 1 0 0 2 0 0 2 1 2 0 1 0 0 2 1 1 2 2 2 2 2 1\n",
      " 2 1 2 2 1 0 1 2 0 2 0 2 2 0 0 0 2 2 1 0 1 1 2 0 2 2 1 1 2 2 0 1 1 0 0 1 2\n",
      " 2 2 2 0 2 1 0 0 2 1 0 1 1 1 2 1 2 2 1 1 1 1 2 2 2 1 2 1 2 0 2 0 2 0 2 1 1\n",
      " 2 2 1 1 2 2 0 2 1 1 2 0 1 1 2 2 2 1 1 0 0 1 0 2 0 2 1 0 2 0 2 2 1 2 2 1 2\n",
      " 2 0 0 0 2 2 1 2 2 2 1 1 0 0 0 0 1 1 0 2 2 2 0 2 0 2 0 2 1 0 0 2 2 0 2 2 2\n",
      " 1 0 1 1 2 0 2 0 2 2 0 1 2 2 2 1 2 0 2 2 2 1 2 2 1 1 0 2 0 1 0 1 1 0 0 1 2\n",
      " 1 2 1 1 1 0 1 0 2 1 2 0 1 2 0 1 1 0 2 2 2 0 2 1 1 0 2 0 1 1 1 0 0 0 1 1 2\n",
      " 2 0 0 0 2 0 0 2 2 0 0 2 1 0 2 2 1 2 1 2 2 2 2 0 2 0 2 1 0 2 0 1 2 0 0 0 1\n",
      " 2 0 1 1 0 1 1 0 1 0 2 0 1 2 0 1 0 1 0 0 1 2 2 0 0 0 1 0 0 2 1 2 1 2 1 1 1\n",
      " 0 2 2 0 1 1 1 0 1 1 2 2 1 2 2 2 1 1 2 2 2 2 1 0 0 0 2 2 1]\n",
      "(880,)\n"
     ]
    }
   ],
   "source": [
    "segment_length = 2880\n",
    "\n",
    "segments, labels, input_shape = create_segments_and_labels_2(data_dir, segment_length, step)\n",
    "\n",
    "labels2 = np.argmax(labels,axis=1)\n",
    "\n",
    "X_train, X_test, y_train, y_test = train_test_split(segments, labels2, test_size=0.2, random_state=17)\n",
    "\n",
    "print(X_train)\n",
    "print(X_train.shape)\n",
    "print()\n",
    "print(X_test)\n",
    "print(X_test.shape)\n",
    "print()\n",
    "print(y_train)\n",
    "print(y_train.shape)\n",
    "print()\n",
    "print(y_test)\n",
    "print(y_test.shape)"
   ]
  },
  {
   "cell_type": "code",
   "execution_count": 32,
   "metadata": {},
   "outputs": [
    {
     "name": "stdout",
     "output_type": "stream",
     "text": [
      "[[ 87  91  90]\n",
      " [ 75 128  75]\n",
      " [ 52  78 204]]\n",
      "              precision    recall  f1-score   support\n",
      "\n",
      "           0       0.41      0.32      0.36       268\n",
      "           1       0.43      0.46      0.45       278\n",
      "           2       0.55      0.61      0.58       334\n",
      "\n",
      "    accuracy                           0.48       880\n",
      "   macro avg       0.46      0.47      0.46       880\n",
      "weighted avg       0.47      0.48      0.47       880\n",
      "\n"
     ]
    }
   ],
   "source": [
    "XGBClassifier.fit(X_train,y_train)\n",
    "y_pred = XGBClassifier.predict(X_test)\n",
    "print(confusion_matrix(y_test,y_pred))\n",
    "print(classification_report(y_test,y_pred))"
   ]
  },
  {
   "cell_type": "code",
   "execution_count": 28,
   "metadata": {},
   "outputs": [
    {
     "data": {
      "image/png": "[encoded data removed]",
      "text/plain": [
       "<Figure size 576x432 with 2 Axes>"
      ]
     },
     "metadata": {
      "needs_background": "light"
     },
     "output_type": "display_data"
    }
   ],
   "source": [
    "plot_confusion_matrix(cm           = np.array([[ 87,  91,   90],\n",
    "                                              [  75,  128,  75],\n",
    "                                              [  52,  78, 204]]), \n",
    "                      normalize    = False,\n",
    "                      target_names = ['Control','ADHD', 'Depression'],\n",
    "                      title        = \"XGBoost Confusion Matrix (48h) - Control vs ADHD vs Depression\")"
   ]
  },
  {
   "cell_type": "markdown",
   "metadata": {},
   "source": [
    "72hours - 4320timesteps"
   ]
  },
  {
   "cell_type": "code",
   "execution_count": 33,
   "metadata": {},
   "outputs": [
    {
     "name": "stdout",
     "output_type": "stream",
     "text": [
      "(2476, 4320)\n",
      "\n",
      "(620, 4320)\n",
      "\n",
      "(2476,)\n",
      "\n",
      "(620,)\n"
     ]
    }
   ],
   "source": [
    "segment_length = 4320\n",
    "\n",
    "segments, labels, input_shape = create_segments_and_labels_2(data_dir, segment_length, step)\n",
    "\n",
    "labels2 = np.argmax(labels,axis=1)\n",
    "\n",
    "X_train, X_test, y_train, y_test = train_test_split(segments, labels2, test_size=0.2, random_state=17)\n",
    "\n",
    "#print(X_train)\n",
    "print(X_train.shape)\n",
    "print()\n",
    "#print(X_test)\n",
    "print(X_test.shape)\n",
    "print()\n",
    "#print(y_train)\n",
    "print(y_train.shape)\n",
    "print()\n",
    "#print(y_test)\n",
    "print(y_test.shape)"
   ]
  },
  {
   "cell_type": "code",
   "execution_count": 34,
   "metadata": {},
   "outputs": [
    {
     "name": "stdout",
     "output_type": "stream",
     "text": [
      "[[ 59  67  57]\n",
      " [ 43 101  60]\n",
      " [ 36  57 140]]\n",
      "              precision    recall  f1-score   support\n",
      "\n",
      "           0       0.43      0.32      0.37       183\n",
      "           1       0.45      0.50      0.47       204\n",
      "           2       0.54      0.60      0.57       233\n",
      "\n",
      "    accuracy                           0.48       620\n",
      "   macro avg       0.47      0.47      0.47       620\n",
      "weighted avg       0.48      0.48      0.48       620\n",
      "\n"
     ]
    }
   ],
   "source": [
    "XGBClassifier.fit(X_train,y_train)\n",
    "y_pred = XGBClassifier.predict(X_test)\n",
    "print(confusion_matrix(y_test,y_pred))\n",
    "print(classification_report(y_test,y_pred))"
   ]
  },
  {
   "cell_type": "code",
   "execution_count": 29,
   "metadata": {},
   "outputs": [
    {
     "data": {
      "image/png": "[encoded data removed]",
      "text/plain": [
       "<Figure size 576x432 with 2 Axes>"
      ]
     },
     "metadata": {
      "needs_background": "light"
     },
     "output_type": "display_data"
    }
   ],
   "source": [
    "plot_confusion_matrix(cm           = np.array([[ 59,  67,   57],\n",
    "                                              [  43,  101,  60],\n",
    "                                              [  36,  57, 140]]), \n",
    "                      normalize    = False,\n",
    "                      target_names = ['Control','ADHD', 'Depression'],\n",
    "                      title        = \"XGBoost Confusion Matrix (72h) - Control vs ADHD vs Depression\")"
   ]
  },
  {
   "cell_type": "markdown",
   "metadata": {},
   "source": [
    "96hours - 5760timesteps"
   ]
  },
  {
   "cell_type": "code",
   "execution_count": 35,
   "metadata": {},
   "outputs": [
    {
     "name": "stdout",
     "output_type": "stream",
     "text": [
      "(1402, 5760)\n",
      "\n",
      "(351, 5760)\n",
      "\n",
      "(1402,)\n",
      "\n",
      "(351,)\n"
     ]
    }
   ],
   "source": [
    "segment_length = 5760\n",
    "\n",
    "segments, labels, input_shape = create_segments_and_labels_2(data_dir, segment_length, step)\n",
    "\n",
    "labels2 = np.argmax(labels,axis=1)\n",
    "\n",
    "X_train, X_test, y_train, y_test = train_test_split(segments, labels2, test_size=0.2, random_state=17)\n",
    "\n",
    "#print(X_train)\n",
    "print(X_train.shape)\n",
    "print()\n",
    "#print(X_test)\n",
    "print(X_test.shape)\n",
    "print()\n",
    "#print(y_train)\n",
    "print(y_train.shape)\n",
    "print()\n",
    "#print(y_test)\n",
    "print(y_test.shape)"
   ]
  },
  {
   "cell_type": "code",
   "execution_count": 36,
   "metadata": {
    "scrolled": true
   },
   "outputs": [
    {
     "name": "stdout",
     "output_type": "stream",
     "text": [
      "[[ 17  40  40]\n",
      " [ 16  60  32]\n",
      " [ 13  31 102]]\n",
      "              precision    recall  f1-score   support\n",
      "\n",
      "           0       0.37      0.18      0.24        97\n",
      "           1       0.46      0.56      0.50       108\n",
      "           2       0.59      0.70      0.64       146\n",
      "\n",
      "    accuracy                           0.51       351\n",
      "   macro avg       0.47      0.48      0.46       351\n",
      "weighted avg       0.49      0.51      0.49       351\n",
      "\n"
     ]
    }
   ],
   "source": [
    "XGBClassifier.fit(X_train,y_train)\n",
    "y_pred = XGBClassifier.predict(X_test)\n",
    "print(confusion_matrix(y_test,y_pred))\n",
    "print(classification_report(y_test,y_pred))"
   ]
  },
  {
   "cell_type": "code",
   "execution_count": 30,
   "metadata": {
    "scrolled": true
   },
   "outputs": [
    {
     "data": {
      "image/png": "[encoded data removed]",
      "text/plain": [
       "<Figure size 576x432 with 2 Axes>"
      ]
     },
     "metadata": {
      "needs_background": "light"
     },
     "output_type": "display_data"
    }
   ],
   "source": [
    "plot_confusion_matrix(cm           = np.array([[ 17,  40,   40],\n",
    "                                              [  16,  60,  32],\n",
    "                                              [  13,  31, 102]]), \n",
    "                      normalize    = False,\n",
    "                      target_names = ['Control','ADHD', 'Depression'],\n",
    "                      title        = \"XGBoost Confusion Matrix (96h) - Control vs ADHD vs Depression\")"
   ]
  },
  {
   "cell_type": "markdown",
   "metadata": {},
   "source": [
    "16h\n",
    "\n",
    "[[158 117 111]\n",
    " [121 173 128]\n",
    " [114  99 223]]\n",
    "              precision    recall  f1-score   support\n",
    "\n",
    "           0       0.40      0.41      0.41       386\n",
    "           1       0.44      0.41      0.43       422\n",
    "           2       0.48      0.51      0.50       436\n",
    "\n",
    "    accuracy                           0.45      1244\n",
    "   macro avg       0.44      0.44      0.44      1244\n",
    "weighted avg       0.44      0.45      0.44      1244\n",
    "\n",
    "24h \n",
    "\n",
    "[[147  82 123]\n",
    " [127 125 121]\n",
    " [102  89 235]]\n",
    "              precision    recall  f1-score   support\n",
    "\n",
    "           0       0.39      0.42      0.40       352\n",
    "           1       0.42      0.34      0.37       373\n",
    "           2       0.49      0.55      0.52       426\n",
    "\n",
    "    accuracy                           0.44      1151\n",
    "   macro avg       0.43      0.43      0.43      1151\n",
    "weighted avg       0.44      0.44      0.44      1151\n",
    "\n",
    "48h\n",
    "\n",
    "[[ 87  91  90]\n",
    " [ 75 128  75]\n",
    " [ 52  78 204]]\n",
    "              precision    recall  f1-score   support\n",
    "\n",
    "           0       0.41      0.32      0.36       268\n",
    "           1       0.43      0.46      0.45       278\n",
    "           2       0.55      0.61      0.58       334\n",
    "\n",
    "    accuracy                           0.48       880\n",
    "   macro avg       0.46      0.47      0.46       880\n",
    "weighted avg       0.47      0.48      0.47       880\n",
    "\n",
    "72h\n",
    "\n",
    "[[ 59  67  57]\n",
    " [ 43 101  60]\n",
    " [ 36  57 140]]\n",
    "              precision    recall  f1-score   support\n",
    "\n",
    "           0       0.43      0.32      0.37       183\n",
    "           1       0.45      0.50      0.47       204\n",
    "           2       0.54      0.60      0.57       233\n",
    "\n",
    "    accuracy                           0.48       620\n",
    "   macro avg       0.47      0.47      0.47       620\n",
    "weighted avg       0.48      0.48      0.48       620\n",
    "\n",
    "96h\n",
    "\n",
    "[[ 17  40  40]\n",
    " [ 16  60  32]\n",
    " [ 13  31 102]]\n",
    "              precision    recall  f1-score   support\n",
    "\n",
    "           0       0.37      0.18      0.24        97\n",
    "           1       0.46      0.56      0.50       108\n",
    "           2       0.59      0.70      0.64       146\n",
    "\n",
    "    accuracy                           0.51       351\n",
    "   macro avg       0.47      0.48      0.46       351\n",
    "weighted avg       0.49      0.51      0.49       351"
   ]
  },
  {
   "cell_type": "code",
   "execution_count": 3,
   "metadata": {},
   "outputs": [],
   "source": [
    "import numpy as np"
   ]
  },
  {
   "cell_type": "code",
   "execution_count": 22,
   "metadata": {},
   "outputs": [
    {
     "data": {
      "text/plain": [
       "46.0"
      ]
     },
     "execution_count": 22,
     "metadata": {},
     "output_type": "execute_result"
    }
   ],
   "source": [
    "np.mean([24,50,64])"
   ]
  },
  {
   "cell_type": "code",
   "execution_count": 24,
   "metadata": {},
   "outputs": [
    {
     "data": {
      "image/png": "[encoded data removed]",
      "text/plain": [
       "<Figure size 720x360 with 1 Axes>"
      ]
     },
     "metadata": {
      "needs_background": "light"
     },
     "output_type": "display_data"
    }
   ],
   "source": [
    "acc = [0.45,0.44,0.48,0.48,0.51]\n",
    "prec = [0.44,0.436,0.463,0.473,0.4736]\n",
    "reca = [0.443,0.4166,0.4633,0.473,0.48]\n",
    "f1 = [0.4466,0.43,0.463,0.47,0.46]\n",
    "acc_perc = np.multiply(acc, 1)\n",
    "prec_perc = np.multiply(prec, 1)\n",
    "reca_perc = np.multiply(reca, 1)\n",
    "f1_perc = np.multiply(f1, 1)\n",
    "\n",
    "plt.figure(figsize=(10, 5))\n",
    "plt.grid(color='k', linestyle='-', linewidth=0.5)\n",
    "plt.plot(acc_perc, marker = 'o')\n",
    "plt.plot(prec_perc, marker = 's')\n",
    "plt.plot(reca_perc, marker = 'D')\n",
    "plt.plot(f1_perc, marker = 'X')\n",
    "plt.xticks(np.arange(5),['16h','24h','48h','72h','96h'])\n",
    "plt.legend(['accuracy','precision','recall','f1'])\n",
    "plt.title(\"XGBoost - Control versus Depression versus ADHD (mean scores after 5-fold cross-validation)\")\n",
    "plt.xlabel('segment length')\n",
    "plt.ylabel('value of evaluation metric')\n",
    "plt.show()"
   ]
  },
  {
   "cell_type": "code",
   "execution_count": 31,
   "metadata": {},
   "outputs": [
    {
     "data": {
      "image/png": "[encoded data removed]",
      "text/plain": [
       "<Figure size 576x432 with 2 Axes>"
      ]
     },
     "metadata": {
      "needs_background": "light"
     },
     "output_type": "display_data"
    }
   ],
   "source": [
    "\n",
    "plot_confusion_matrix(cm           = np.array([[ 17,  40,   40],\n",
    "                                              [  16,  60,  32],\n",
    "                                              [  13,  31, 102]]), \n",
    "                      normalize    = False,\n",
    "                      target_names = ['Control','ADHD', 'Depression'],\n",
    "                      title        = \"XGBoost Confusion Matrix (96h) - Control vs ADHD vs Depression\")"
   ]
  },
  {
   "cell_type": "code",
   "execution_count": null,
   "metadata": {},
   "outputs": [],
   "source": []
  },
  {
   "cell_type": "code",
   "execution_count": null,
   "metadata": {},
   "outputs": [],
   "source": []
  }
 ],
 "metadata": {
  "kernelspec": {
   "display_name": "Python 3",
   "language": "python",
   "name": "python3"
  },
  "language_info": {
   "codemirror_mode": {
    "name": "ipython",
    "version": 3
   },
   "file_extension": ".py",
   "mimetype": "text/x-python",
   "name": "python",
   "nbconvert_exporter": "python",
   "pygments_lexer": "ipython3",
   "version": "3.8.3"
  }
 },
 "nbformat": 4,
 "nbformat_minor": 5
}
