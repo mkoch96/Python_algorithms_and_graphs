{
 "cells": [
  {
   "cell_type": "markdown",
   "metadata": {},
   "source": [
    "ADHD vs control - SVM"
   ]
  },
  {
   "cell_type": "code",
   "execution_count": null,
   "metadata": {},
   "outputs": [],
   "source": [
    "import numpy as np\n",
    "import pandas as pd\n",
    "import seaborn as sns\n",
    "\n",
    "from sklearn.model_selection import train_test_split, cross_val_score, KFold\n",
    "from sklearn.preprocessing import StandardScaler, MinMaxScaler \n",
    "from sklearn.metrics import accuracy_score, classification_report, confusion_matrix, ConfusionMatrixDisplay \n",
    "from sklearn.preprocessing import RobustScaler\n",
    "from sklearn.model_selection import cross_val_score\n",
    "\n",
    "import os\n",
    "import sys\n",
    "import random\n",
    "\n",
    "from matplotlib import pyplot as plt\n",
    "\n",
    "import tensorflow as tf\n",
    "from tensorflow import keras\n",
    "from tensorflow.keras.layers import Input, Dense, Dropout\n",
    "from tensorflow.keras import backend as K\n",
    "from tensorflow.keras.optimizers import SGD, Nadam, Adam\n",
    "from tensorflow.keras.utils import to_categorical\n",
    "from tensorflow.keras.callbacks import TensorBoard, EarlyStopping, ModelCheckpoint\n",
    "from tensorflow.keras.wrappers.scikit_learn import KerasRegressor\n",
    "from tensorflow.keras.models import Sequential, load_model\n",
    "\n",
    "from keras.models import Sequential\n",
    "from keras.layers import Dense, LSTM, Dropout\n",
    "from keras import optimizers\n",
    "from sklearn.model_selection import cross_val_score, cross_validate\n",
    "from sklearn.svm import SVC"
   ]
  },
  {
   "cell_type": "code",
   "execution_count": 113,
   "metadata": {},
   "outputs": [],
   "source": [
    "# hyperparameters\n",
    "\n",
    "step = 60 \n",
    "batch_size = 16\n",
    "verbose = 1\n",
    "data_dir = \"Thesis_files\"\n",
    "segment_length = 960\n",
    "learning_rate = 0.0001"
   ]
  },
  {
   "cell_type": "code",
   "execution_count": 116,
   "metadata": {},
   "outputs": [],
   "source": [
    "def segments_and_labels(dataset_dir, segment_length, step):\n",
    "    scores = pd.read_csv(os.path.join(dataset_dir, 'scores6.csv'))\n",
    "    scores['exp_or_cont'].fillna(0, inplace=True)\n",
    "\n",
    "    segments = []\n",
    "    labels = []\n",
    "\n",
    "    for person in scores['number']:\n",
    "        p = scores[scores['number'] == person]\n",
    "        filepath = os.path.join(dataset_dir, person.split('_')[0], f'{person}.csv')\n",
    "        df_activity = pd.read_csv(filepath)\n",
    "\n",
    "        for i in range(0, len(df_activity) - segment_length, step):\n",
    "            segment = df_activity['Magnitude.mean'].values[i : i + segment_length]\n",
    "            \n",
    "            segments.append([segment])\n",
    "            labels.append(p['exp_or_cont'].values[0])\n",
    "\n",
    "    segments = np.asarray(segments)\n",
    "    segments = segments.reshape(-1, segment_length, 1)\n",
    "\n",
    "    input_shape = segments.shape[1]\n",
    "    segments = segments.reshape(segments.shape[0], input_shape).astype('float32')\n",
    "    labels = np.asarray(labels).astype('float32')\n",
    "\n",
    "    return segments, labels, input_shape\n",
    "\n"
   ]
  },
  {
   "cell_type": "code",
   "execution_count": 117,
   "metadata": {},
   "outputs": [
    {
     "name": "stdout",
     "output_type": "stream",
     "text": [
      "(array([[0.043232, 0.08168 , 0.01811 , ..., 0.062163, 0.011337, 0.010288],\n",
      "       [0.128714, 0.101046, 0.331317, ..., 0.055553, 0.031634, 0.05851 ],\n",
      "       [0.006379, 0.007886, 0.01208 , ..., 0.016275, 0.085776, 0.035873],\n",
      "       ...,\n",
      "       [0.028381, 0.112372, 0.047427, ..., 0.037865, 0.024527, 0.059238],\n",
      "       [0.073108, 0.043552, 0.070973, ..., 0.02016 , 0.026588, 0.008958],\n",
      "       [0.042946, 0.062584, 0.074234, ..., 0.006881, 0.008216, 0.00673 ]],\n",
      "      dtype=float32), array([1., 1., 1., ..., 0., 0., 0.], dtype=float32), 960)\n"
     ]
    }
   ],
   "source": [
    "print(segments_and_labels(data_dir,segment_length,step))"
   ]
  },
  {
   "cell_type": "code",
   "execution_count": 118,
   "metadata": {},
   "outputs": [],
   "source": [
    "segments, labels, input_shape = segments_and_labels(data_dir, segment_length, step)"
   ]
  },
  {
   "cell_type": "code",
   "execution_count": 119,
   "metadata": {},
   "outputs": [
    {
     "name": "stdout",
     "output_type": "stream",
     "text": [
      "(21696,)\n",
      "(21696, 960)\n",
      "[1. 1. 1. ... 0. 0. 0.]\n",
      "[[0.043232 0.08168  0.01811  ... 0.062163 0.011337 0.010288]\n",
      " [0.128714 0.101046 0.331317 ... 0.055553 0.031634 0.05851 ]\n",
      " [0.006379 0.007886 0.01208  ... 0.016275 0.085776 0.035873]\n",
      " ...\n",
      " [0.028381 0.112372 0.047427 ... 0.037865 0.024527 0.059238]\n",
      " [0.073108 0.043552 0.070973 ... 0.02016  0.026588 0.008958]\n",
      " [0.042946 0.062584 0.074234 ... 0.006881 0.008216 0.00673 ]]\n"
     ]
    }
   ],
   "source": [
    "y = labels\n",
    "X = segments\n",
    "print(y.shape)\n",
    "print(X.shape)\n",
    "print(y)\n",
    "print(X)"
   ]
  },
  {
   "cell_type": "markdown",
   "metadata": {},
   "source": [
    "16hours - 960 timesteps"
   ]
  },
  {
   "cell_type": "code",
   "execution_count": 103,
   "metadata": {},
   "outputs": [
    {
     "name": "stdout",
     "output_type": "stream",
     "text": [
      "{'fit_time': array([11.06829619, 10.97786307, 10.86656642, 10.91953444, 10.8577733 ]), 'score_time': array([3.97131968, 3.97108865, 3.96656418, 3.94510531, 3.94220257]), 'test_accuracy': array([0.55865922, 0.56584198, 0.54988029, 0.57781325, 0.53115016]), 'test_precision': array([0.5352518 , 0.57878315, 0.54957983, 0.5806962 , 0.54290172]), 'test_recall': array([0.6179402 , 0.5751938 , 0.52487961, 0.58161648, 0.54205607]), 'test_f1': array([0.57363146, 0.57698289, 0.53694581, 0.58115598, 0.54247857])}\n",
      "Accuracy:\n",
      "[0.55865922 0.56584198 0.54988029 0.57781325 0.53115016]\n",
      "Mean accuracy:\n",
      "0.5566689784772139\n",
      "\n",
      "Precision:\n",
      "[0.5352518  0.57878315 0.54957983 0.5806962  0.54290172]\n",
      "Mean precision:\n",
      "0.5574425400840531\n",
      "\n",
      "Recall:\n",
      "[0.6179402  0.5751938  0.52487961 0.58161648 0.54205607]\n",
      "Mean recall:\n",
      "0.5683372338187462\n",
      "\n",
      "f1:\n",
      "[0.57363146 0.57698289 0.53694581 0.58115598 0.54247857]\n",
      "Mean f1:\n",
      "0.5622389412798328\n",
      "\n"
     ]
    }
   ],
   "source": [
    "svclassifier = SVC(kernel = \"rbf\", C=1.2, random_state=777)\n",
    "\n",
    "kf = KFold(n_splits = 5, shuffle = True, random_state = 777)\n",
    "\n",
    "scores_acc = cross_validate(svclassifier, X, y, scoring = ['accuracy','precision','recall','f1'], cv=kf)\n",
    "\n",
    "print(\"Accuracy:\")\n",
    "print(scores_acc['test_accuracy'])\n",
    "print(\"Mean accuracy:\")\n",
    "print(np.mean(scores_acc['test_accuracy']))\n",
    "print()\n",
    "\n",
    "print(\"Precision:\")\n",
    "print(scores_acc['test_precision'])\n",
    "print(\"Mean precision:\")\n",
    "print(np.mean(scores_acc['test_precision']))\n",
    "print()\n",
    "\n",
    "print(\"Recall:\")\n",
    "print(scores_acc['test_recall'])\n",
    "print(\"Mean recall:\")\n",
    "print(np.mean(scores_acc['test_recall']))\n",
    "print()\n",
    "\n",
    "print(\"f1:\")\n",
    "print(scores_acc['test_f1'])\n",
    "print(\"Mean f1:\")\n",
    "print(np.mean(scores_acc['test_f1']))\n",
    "print()"
   ]
  },
  {
   "cell_type": "markdown",
   "metadata": {},
   "source": [
    "24hours - 1440 timesteps"
   ]
  },
  {
   "cell_type": "code",
   "execution_count": 104,
   "metadata": {},
   "outputs": [
    {
     "name": "stdout",
     "output_type": "stream",
     "text": [
      "(5787,)\n",
      "(5787, 1440)\n"
     ]
    }
   ],
   "source": [
    "segment_length = 1440\n",
    "\n",
    "segments, labels, input_shape = segments_and_labels(data_dir, segment_length, step)\n",
    "\n",
    "y = labels\n",
    "X = segments\n",
    "print(y.shape)\n",
    "print(X.shape)"
   ]
  },
  {
   "cell_type": "code",
   "execution_count": 105,
   "metadata": {},
   "outputs": [
    {
     "name": "stdout",
     "output_type": "stream",
     "text": [
      "Accuracy:\n",
      "[0.55181347 0.57772021 0.54624028 0.55834054 0.55229041]\n",
      "Mean accuracy:\n",
      "0.5572809794850897\n",
      "\n",
      "Precision:\n",
      "[0.56572379 0.57142857 0.54003407 0.55144695 0.55205047]\n",
      "Mean precision:\n",
      "0.5561367710359544\n",
      "\n",
      "Recall:\n",
      "[0.56856187 0.61005199 0.5541958  0.59652174 0.59931507]\n",
      "Mean recall:\n",
      "0.5857292955593358\n",
      "\n",
      "f1:\n",
      "[0.56713928 0.59010897 0.5470233  0.57309942 0.57471264]\n",
      "Mean f1:\n",
      "0.5704167213097965\n",
      "\n"
     ]
    }
   ],
   "source": [
    "svclassifier = SVC(kernel = \"rbf\", C=1.2, random_state=777)\n",
    "\n",
    "kf = KFold(n_splits = 5, shuffle = True, random_state = 777)\n",
    "\n",
    "scores_acc = cross_validate(svclassifier, X, y, scoring = ['accuracy','precision','recall','f1'], cv=kf)\n",
    "\n",
    "print(\"Accuracy:\")\n",
    "print(scores_acc['test_accuracy'])\n",
    "print(\"Mean accuracy:\")\n",
    "print(np.mean(scores_acc['test_accuracy']))\n",
    "print()\n",
    "\n",
    "print(\"Precision:\")\n",
    "print(scores_acc['test_precision'])\n",
    "print(\"Mean precision:\")\n",
    "print(np.mean(scores_acc['test_precision']))\n",
    "print()\n",
    "\n",
    "print(\"Recall:\")\n",
    "print(scores_acc['test_recall'])\n",
    "print(\"Mean recall:\")\n",
    "print(np.mean(scores_acc['test_recall']))\n",
    "print()\n",
    "\n",
    "print(\"f1:\")\n",
    "print(scores_acc['test_f1'])\n",
    "print(\"Mean f1:\")\n",
    "print(np.mean(scores_acc['test_f1']))\n",
    "print()"
   ]
  },
  {
   "cell_type": "markdown",
   "metadata": {},
   "source": [
    "48 hours - 2880 timesteps"
   ]
  },
  {
   "cell_type": "code",
   "execution_count": 106,
   "metadata": {},
   "outputs": [
    {
     "name": "stdout",
     "output_type": "stream",
     "text": [
      "(4376,)\n",
      "(4376, 2880)\n"
     ]
    }
   ],
   "source": [
    "segment_length = 2880\n",
    "\n",
    "segments, labels, input_shape = segments_and_labels(data_dir, segment_length, step)\n",
    "\n",
    "y = labels\n",
    "X = segments\n",
    "print(y.shape)\n",
    "print(X.shape)"
   ]
  },
  {
   "cell_type": "code",
   "execution_count": 107,
   "metadata": {},
   "outputs": [
    {
     "name": "stdout",
     "output_type": "stream",
     "text": [
      "Accuracy:\n",
      "[0.57191781 0.52       0.59657143 0.57028571 0.552     ]\n",
      "Mean accuracy:\n",
      "0.5621549902152642\n",
      "\n",
      "Precision:\n",
      "[0.58526316 0.52941176 0.57407407 0.57264957 0.55060729]\n",
      "Mean precision:\n",
      "0.5624011713547317\n",
      "\n",
      "Recall:\n",
      "[0.60964912 0.5625     0.65647059 0.6036036  0.61538462]\n",
      "Mean recall:\n",
      "0.6095215860061061\n",
      "\n",
      "f1:\n",
      "[0.5972073  0.54545455 0.61251372 0.5877193  0.58119658]\n",
      "Mean f1:\n",
      "0.5848182900112945\n",
      "\n"
     ]
    }
   ],
   "source": [
    "svclassifier = SVC(kernel = \"rbf\", C=1.2, random_state=777)\n",
    "\n",
    "kf = KFold(n_splits = 5, shuffle = True, random_state = 777)\n",
    "\n",
    "scores_acc = cross_validate(svclassifier, X, y, scoring = ['accuracy','precision','recall','f1'], cv=kf)\n",
    "\n",
    "print(\"Accuracy:\")\n",
    "print(scores_acc['test_accuracy'])\n",
    "print(\"Mean accuracy:\")\n",
    "print(np.mean(scores_acc['test_accuracy']))\n",
    "print()\n",
    "\n",
    "print(\"Precision:\")\n",
    "print(scores_acc['test_precision'])\n",
    "print(\"Mean precision:\")\n",
    "print(np.mean(scores_acc['test_precision']))\n",
    "print()\n",
    "\n",
    "print(\"Recall:\")\n",
    "print(scores_acc['test_recall'])\n",
    "print(\"Mean recall:\")\n",
    "print(np.mean(scores_acc['test_recall']))\n",
    "print()\n",
    "\n",
    "print(\"f1:\")\n",
    "print(scores_acc['test_f1'])\n",
    "print(\"Mean f1:\")\n",
    "print(np.mean(scores_acc['test_f1']))\n",
    "print()"
   ]
  },
  {
   "cell_type": "markdown",
   "metadata": {},
   "source": [
    "72 hours - 4320 timesteps"
   ]
  },
  {
   "cell_type": "code",
   "execution_count": 108,
   "metadata": {},
   "outputs": [
    {
     "name": "stdout",
     "output_type": "stream",
     "text": [
      "(2984,)\n",
      "(2984, 4320)\n"
     ]
    }
   ],
   "source": [
    "segment_length = 4320\n",
    "\n",
    "segments, labels, input_shape = segments_and_labels(data_dir, segment_length, step)\n",
    "\n",
    "y = labels\n",
    "X = segments\n",
    "print(y.shape)\n",
    "print(X.shape)"
   ]
  },
  {
   "cell_type": "code",
   "execution_count": 109,
   "metadata": {},
   "outputs": [
    {
     "name": "stdout",
     "output_type": "stream",
     "text": [
      "Accuracy:\n",
      "[0.55443886 0.55443886 0.50921273 0.49916248 0.5033557 ]\n",
      "Mean accuracy:\n",
      "0.524121727204254\n",
      "\n",
      "Precision:\n",
      "[0.56233422 0.55807365 0.53072626 0.50284091 0.51575931]\n",
      "Mean precision:\n",
      "0.5339468700585265\n",
      "\n",
      "Recall:\n",
      "[0.67731629 0.64169381 0.6031746  0.58803987 0.58631922]\n",
      "Mean recall:\n",
      "0.6193087587059821\n",
      "\n",
      "f1:\n",
      "[0.61449275 0.5969697  0.56463596 0.54211332 0.54878049]\n",
      "Mean f1:\n",
      "0.5733984439834103\n",
      "\n"
     ]
    }
   ],
   "source": [
    "svclassifier = SVC(kernel = \"rbf\", C=1.2, random_state=777)\n",
    "\n",
    "kf = KFold(n_splits = 5, shuffle = True, random_state = 777)\n",
    "\n",
    "scores_acc = cross_validate(svclassifier, X, y, scoring = ['accuracy','precision','recall','f1'], cv=kf)\n",
    "\n",
    "print(\"Accuracy:\")\n",
    "print(scores_acc['test_accuracy'])\n",
    "print(\"Mean accuracy:\")\n",
    "print(np.mean(scores_acc['test_accuracy']))\n",
    "print()\n",
    "\n",
    "print(\"Precision:\")\n",
    "print(scores_acc['test_precision'])\n",
    "print(\"Mean precision:\")\n",
    "print(np.mean(scores_acc['test_precision']))\n",
    "print()\n",
    "\n",
    "print(\"Recall:\")\n",
    "print(scores_acc['test_recall'])\n",
    "print(\"Mean recall:\")\n",
    "print(np.mean(scores_acc['test_recall']))\n",
    "print()\n",
    "\n",
    "print(\"f1:\")\n",
    "print(scores_acc['test_f1'])\n",
    "print(\"Mean f1:\")\n",
    "print(np.mean(scores_acc['test_f1']))\n",
    "print()"
   ]
  },
  {
   "cell_type": "markdown",
   "metadata": {},
   "source": [
    "96 hours - 5760 timesteps"
   ]
  },
  {
   "cell_type": "code",
   "execution_count": 110,
   "metadata": {},
   "outputs": [
    {
     "name": "stdout",
     "output_type": "stream",
     "text": [
      "(1614,)\n",
      "(1614, 5760)\n"
     ]
    }
   ],
   "source": [
    "segment_length = 5760\n",
    "\n",
    "segments, labels, input_shape = segments_and_labels(data_dir, segment_length, step)\n",
    "\n",
    "y = labels\n",
    "X = segments\n",
    "print(y.shape)\n",
    "print(X.shape)"
   ]
  },
  {
   "cell_type": "code",
   "execution_count": 111,
   "metadata": {},
   "outputs": [
    {
     "name": "stdout",
     "output_type": "stream",
     "text": [
      "Accuracy:\n",
      "[0.54179567 0.52012384 0.59133127 0.57585139 0.57453416]\n",
      "Mean accuracy:\n",
      "0.5607272657346691\n",
      "\n",
      "Precision:\n",
      "[0.56306306 0.53556485 0.60730594 0.56223176 0.59808612]\n",
      "Mean precision:\n",
      "0.5732503473502348\n",
      "\n",
      "Recall:\n",
      "[0.71022727 0.74418605 0.74301676 0.78915663 0.70224719]\n",
      "Mean recall:\n",
      "0.7377667793065394\n",
      "\n",
      "f1:\n",
      "[0.6281407  0.62287105 0.66834171 0.6566416  0.64599483]\n",
      "Mean f1:\n",
      "0.6443979788680761\n",
      "\n"
     ]
    }
   ],
   "source": [
    "svclassifier = SVC(kernel = \"rbf\", C=1.2, random_state=777)\n",
    "\n",
    "kf = KFold(n_splits = 5, shuffle = True, random_state = 777)\n",
    "\n",
    "scores_acc = cross_validate(svclassifier, X, y, scoring = ['accuracy','precision','recall','f1'], cv=kf)\n",
    "\n",
    "print(\"Accuracy:\")\n",
    "print(scores_acc['test_accuracy'])\n",
    "print(\"Mean accuracy:\")\n",
    "print(np.mean(scores_acc['test_accuracy']))\n",
    "print()\n",
    "\n",
    "print(\"Precision:\")\n",
    "print(scores_acc['test_precision'])\n",
    "print(\"Mean precision:\")\n",
    "print(np.mean(scores_acc['test_precision']))\n",
    "print()\n",
    "\n",
    "print(\"Recall:\")\n",
    "print(scores_acc['test_recall'])\n",
    "print(\"Mean recall:\")\n",
    "print(np.mean(scores_acc['test_recall']))\n",
    "print()\n",
    "\n",
    "print(\"f1:\")\n",
    "print(scores_acc['test_f1'])\n",
    "print(\"Mean f1:\")\n",
    "print(np.mean(scores_acc['test_f1']))\n",
    "print()"
   ]
  }
 ],
 "metadata": {
  "kernelspec": {
   "display_name": "Python 3",
   "language": "python",
   "name": "python3"
  },
  "language_info": {
   "codemirror_mode": {
    "name": "ipython",
    "version": 3
   },
   "file_extension": ".py",
   "mimetype": "text/x-python",
   "name": "python",
   "nbconvert_exporter": "python",
   "pygments_lexer": "ipython3",
   "version": "3.8.3"
  }
 },
 "nbformat": 4,
 "nbformat_minor": 5
}
